{
 "cells": [
  {
   "cell_type": "markdown",
   "metadata": {},
   "source": [
    "# Modeling Performance\n",
    "\n",
    "|  Model                |  Out Of Box AUC  |  Tuned AUC  |\n",
    "|-----------------------|------------------|-------------|\n",
    "|  CatBoost             |  0.8572          |  0.84513    |\n",
    "\n",
    "After several different methodologies of trying to increase the AUC I give up! The out of box CatBoost performance is quite nice."
   ]
  },
  {
   "cell_type": "code",
   "execution_count": 1,
   "metadata": {},
   "outputs": [],
   "source": [
    "# General\n",
    "import pandas as pd\n",
    "import numpy as np\n",
    "from time import time\n",
    "from pprint import PrettyPrinter\n",
    "import pickle\n",
    "\n",
    "# Data Tools\n",
    "from sklearn.preprocessing import StandardScaler\n",
    "from sklearn.model_selection import GridSearchCV\n",
    "from sklearn.model_selection import train_test_split\n",
    "\n",
    "# Models\n",
    "from catboost import CatBoostClassifier\n",
    "\n",
    "# Plotting Tools\n",
    "import seaborn as sns\n",
    "import matplotlib.pyplot as plt\n",
    "sns.set()\n",
    "%matplotlib inline\n",
    "pp = PrettyPrinter()"
   ]
  },
  {
   "cell_type": "code",
   "execution_count": 2,
   "metadata": {},
   "outputs": [],
   "source": [
    "df = pd.read_csv('../data/telco_churn_clean.csv')"
   ]
  },
  {
   "cell_type": "code",
   "execution_count": 3,
   "metadata": {},
   "outputs": [],
   "source": [
    "# Get rid of IDs\n",
    "df.drop('customerID', axis=1, inplace=True)\n",
    "\n",
    "# Turn the target into integers and seperate\n",
    "df['Churn'] = df['Churn'].replace('Yes', 1)\n",
    "df['Churn'] = df['Churn'].replace('No', 0)\n",
    "target = df['Churn']\n",
    "df.drop('Churn', axis=1, inplace=True)\n",
    "\n",
    "# Standardize Numerics\n",
    "scaler = StandardScaler()\n",
    "numer_cols = ['tenure', 'MonthlyCharges', 'TotalCharges']\n",
    "numerics = df[numer_cols]\n",
    "numerics = pd.DataFrame(scaler.fit_transform(numerics), columns=numer_cols)\n",
    "for col in numerics:\n",
    "    df[col] = numerics[col]\n",
    "\n",
    "# Get columns which have 4 or less unique vals in them, aka the categoricals in this dataset\n",
    "cat_cols = df.nunique()[df.nunique() <= 4].index.tolist()\n",
    "# Get column indices (catboost only accepts a list of integers - not strings)\n",
    "cat_cols = [df.columns.get_loc(col) for col in cat_cols]\n",
    "\n",
    "# Train Test Split\n",
    "train_x, test_x, train_y, test_y = train_test_split(df, target, random_state=42)"
   ]
  },
  {
   "cell_type": "markdown",
   "metadata": {},
   "source": [
    "## Main Modeling Function"
   ]
  },
  {
   "cell_type": "code",
   "execution_count": 4,
   "metadata": {},
   "outputs": [],
   "source": [
    "def grid_classifier(model, train, target, parameters={}, cv=5, timed=True, feat_imp=False, verbose=True):\n",
    "    '''\n",
    "    For tuning models.\n",
    "    \n",
    "    Automatically plots CV results, but this requires training over on parameter at a time.\n",
    "    If the parameters argument stays an empty dictionary then no plot is made (duh...)\n",
    "    \n",
    "    Returns the GridSearch object\n",
    "    \n",
    "        Parameters:\n",
    "        -----------\n",
    "    model - model\n",
    "    train - array of training data\n",
    "    target - array of target data\n",
    "    parameters - dict of parameters the GSearcher will run over\n",
    "    cv - int, k-fold number\n",
    "    timed - boolean, gives printout of timings\n",
    "    \n",
    "        Returns :\n",
    "        ---------\n",
    "    gsearcher - fitted and searched GridSearchCV object\n",
    "    '''\n",
    "    if timed:\n",
    "        start = time()\n",
    "    \n",
    "    # Grid Search\n",
    "    gsearcher = GridSearchCV(\n",
    "        estimator=model, \n",
    "        param_grid=parameters,\n",
    "        scoring='roc_auc',\n",
    "        n_jobs=-1,\n",
    "        cv=cv,\n",
    "        return_train_score=True\n",
    "    )\n",
    "    gsearcher.fit(train, target)\n",
    "    results = gsearcher.cv_results_\n",
    "    \n",
    "    if timed:\n",
    "        passed = time() - start\n",
    "        print(f'Seconds to fit: {passed:.2f}')\n",
    "\n",
    "    if verbose:\n",
    "        # Print Report\n",
    "        print('Grid Scores: \\n')\n",
    "        pp.pprint(results)\n",
    "        print(f'Best Model Parameters: {gsearcher.best_params_}')\n",
    "        print(f'Best Model Score: {gsearcher.best_score_:.4f}')\n",
    "    else:\n",
    "        score = np.mean(results['mean_test_score'])\n",
    "        print(f'AUC: {round(score, 5)}')\n",
    "    \n",
    "    # Plot CV Results\n",
    "    if parameters:\n",
    "        test_means = results['mean_test_score']\n",
    "        train_means = results['mean_train_score']\n",
    "        x = range(len(test_means))\n",
    "        model_name = str(model.__class__).split('.')[-1][:-2]\n",
    "        param = list(results['params'][0].keys())[0]\n",
    "        labels = [str(pair[param]) for pair in results['params']]\n",
    "\n",
    "        plt.figure(figsize=(10, 8))\n",
    "        plt.plot(x, test_means, label='Test', color='blue')\n",
    "        plt.plot(x, train_means, label='Train', color='green')\n",
    "        plt.title(f'{model_name} over {param}')\n",
    "        plt.xlabel(param)\n",
    "        plt.ylabel('AUC Scores')\n",
    "        plt.xticks(x, labels, rotation=60)\n",
    "        plt.legend()\n",
    "    \n",
    "    # Plot Feature Importance\n",
    "    if feat_imp:\n",
    "        best_model = gsearcher.best_estimator_\n",
    "        best_model.fit(train, target)\n",
    "        feat_series = pd.Series(best_model.feature_importances_, index=train.columns)\n",
    "        feat_series.sort_values(ascending=False, inplace=True)\n",
    "\n",
    "        plt.figure(figsize=(10, 8))\n",
    "        feat_series.plot(kind='bar', title='Feature Importances')\n",
    "        plt.ylabel('Feature Importance Score')\n",
    "        plt.xticks(rotation=60)        \n",
    "    \n",
    "    return gsearcher"
   ]
  },
  {
   "cell_type": "markdown",
   "metadata": {},
   "source": [
    "## Modeling\n",
    "\n",
    "## Table of Contents\n",
    "* Baseline\n",
    "* Loss Function\n",
    "* N Estimators\n",
    "* Max Depth\n",
    "* L2 Leaf Reg\n",
    "* Border Count\n",
    "* Ctr Border Count\n",
    "* Learning Rate\n",
    "* Final Model\n",
    "\n",
    "### Baseline"
   ]
  },
  {
   "cell_type": "code",
   "execution_count": 6,
   "metadata": {
    "scrolled": true
   },
   "outputs": [
    {
     "name": "stdout",
     "output_type": "stream",
     "text": [
      "Seconds to fit: 257.59\n",
      "AUC: 0.8572\n"
     ]
    }
   ],
   "source": [
    "model = CatBoostClassifier(\n",
    "    random_state=42,\n",
    "    cat_features=cat_cols,\n",
    "    verbose=False\n",
    ")\n",
    "\n",
    "baseline_gsearch = grid_classifier(model, test_x, test_y, verbose=False)"
   ]
  },
  {
   "cell_type": "markdown",
   "metadata": {},
   "source": [
    "#### Loss Function\n",
    "Stickng with the default of 'Logloss'"
   ]
  },
  {
   "cell_type": "code",
   "execution_count": 7,
   "metadata": {},
   "outputs": [
    {
     "name": "stdout",
     "output_type": "stream",
     "text": [
      "Seconds to fit: 299.99\n",
      "AUC: 0.84561\n"
     ]
    },
    {
     "data": {
      "text/plain": [
       "GridSearchCV(cv=5, error_score='raise',\n",
       "       estimator=<catboost.core.CatBoostClassifier object at 0x1a198f7908>,\n",
       "       fit_params=None, iid=True, n_jobs=-1, param_grid={},\n",
       "       pre_dispatch='2*n_jobs', refit=True, return_train_score=True,\n",
       "       scoring='roc_auc', verbose=0)"
      ]
     },
     "execution_count": 7,
     "metadata": {},
     "output_type": "execute_result"
    }
   ],
   "source": [
    "model = CatBoostClassifier(\n",
    "    random_state=42,\n",
    "    cat_features=cat_cols,\n",
    "    verbose=False,\n",
    ")\n",
    "\n",
    "grid_classifier(model, train_x, train_y, verbose=False)"
   ]
  },
  {
   "cell_type": "code",
   "execution_count": 8,
   "metadata": {},
   "outputs": [
    {
     "name": "stdout",
     "output_type": "stream",
     "text": [
      "Seconds to fit: 330.08\n",
      "AUC: 0.84561\n"
     ]
    },
    {
     "data": {
      "text/plain": [
       "GridSearchCV(cv=5, error_score='raise',\n",
       "       estimator=<catboost.core.CatBoostClassifier object at 0x105d2ebe0>,\n",
       "       fit_params=None, iid=True, n_jobs=-1, param_grid={},\n",
       "       pre_dispatch='2*n_jobs', refit=True, return_train_score=True,\n",
       "       scoring='roc_auc', verbose=0)"
      ]
     },
     "execution_count": 8,
     "metadata": {},
     "output_type": "execute_result"
    }
   ],
   "source": [
    "model = CatBoostClassifier(\n",
    "    random_state=42,\n",
    "    cat_features=cat_cols,\n",
    "    verbose=False,\n",
    "    loss_function='CrossEntropy'\n",
    ")\n",
    "\n",
    "grid_classifier(model, train_x, train_y, verbose=False)"
   ]
  },
  {
   "cell_type": "code",
   "execution_count": 9,
   "metadata": {},
   "outputs": [
    {
     "name": "stdout",
     "output_type": "stream",
     "text": [
      "Seconds to fit: 208.67\n",
      "AUC: 0.84547\n"
     ]
    },
    {
     "data": {
      "text/plain": [
       "GridSearchCV(cv=5, error_score='raise',\n",
       "       estimator=<catboost.core.CatBoostClassifier object at 0x105d2ec88>,\n",
       "       fit_params=None, iid=True, n_jobs=-1, param_grid={},\n",
       "       pre_dispatch='2*n_jobs', refit=True, return_train_score=True,\n",
       "       scoring='roc_auc', verbose=0)"
      ]
     },
     "execution_count": 9,
     "metadata": {},
     "output_type": "execute_result"
    }
   ],
   "source": [
    "model = CatBoostClassifier(\n",
    "    random_state=42,\n",
    "    cat_features=cat_cols,\n",
    "    verbose=False,\n",
    "    loss_function='MultiClass'\n",
    ")\n",
    "\n",
    "grid_classifier(model, train_x, train_y, verbose=False)"
   ]
  },
  {
   "cell_type": "markdown",
   "metadata": {},
   "source": [
    "#### N Estimators"
   ]
  },
  {
   "cell_type": "code",
   "execution_count": 10,
   "metadata": {
    "scrolled": true
   },
   "outputs": [
    {
     "name": "stdout",
     "output_type": "stream",
     "text": [
      "Seconds to fit: 6337.38\n",
      "Grid Scores: \n",
      "\n",
      "{'mean_fit_time': array([ 14.46013737,  18.24491749,  22.6248703 ,  27.53230343,\n",
      "        36.002356  ,  47.86353498,  50.14558692,  53.49162769,\n",
      "        60.46545162,  65.30411654,  72.33591075,  78.37117295,\n",
      "       101.34770894,  90.73919187,  90.32423725, 115.29663601,\n",
      "       137.45513034, 111.09313288, 117.85108104, 113.31453657,\n",
      "       118.51962342, 124.50829802, 129.36422157, 135.19897099,\n",
      "       141.04910283, 171.6772367 , 204.9785233 , 205.8128571 ,\n",
      "       194.87601609, 186.60645447, 192.39673696, 199.51108251,\n",
      "       218.49431233, 227.30342207, 237.11647162, 219.28493299,\n",
      "       224.15407944, 248.92645659, 214.57602868]),\n",
      " 'mean_score_time': array([0.01787615, 0.01530766, 0.01502452, 0.01556072, 0.01582885,\n",
      "       0.019805  , 0.01612449, 0.01629596, 0.01662383, 0.01701379,\n",
      "       0.0183516 , 0.01854377, 0.01858335, 0.01676259, 0.01727891,\n",
      "       0.01780391, 0.01761642, 0.01708484, 0.0174396 , 0.01739149,\n",
      "       0.01746869, 0.01745038, 0.01802206, 0.01781597, 0.01794834,\n",
      "       0.02109685, 0.02066722, 0.01974626, 0.01807551, 0.01835971,\n",
      "       0.01938734, 0.02033858, 0.02020535, 0.01970844, 0.02599354,\n",
      "       0.01925344, 0.0189239 , 0.01929321, 0.01963706]),\n",
      " 'mean_test_score': array([0.84535315, 0.84437456, 0.84431656, 0.84468181, 0.84606937,\n",
      "       0.84587927, 0.8454946 , 0.84566133, 0.84631657, 0.84578849,\n",
      "       0.84580509, 0.8456969 , 0.84703539, 0.84589246, 0.84604553,\n",
      "       0.84589065, 0.84583679, 0.84510538, 0.84596961, 0.84622328,\n",
      "       0.84562898, 0.84563785, 0.84534254, 0.84529688, 0.84602977,\n",
      "       0.84566795, 0.84716657, 0.8467009 , 0.84561629, 0.84592568,\n",
      "       0.84686484, 0.84676083, 0.84639923, 0.84565843, 0.84567642,\n",
      "       0.84620816, 0.84611528, 0.84631426, 0.84561043]),\n",
      " 'mean_train_score': array([0.86241833, 0.86515094, 0.86689185, 0.865568  , 0.8649953 ,\n",
      "       0.86614386, 0.86767184, 0.86701544, 0.86681356, 0.86722738,\n",
      "       0.86755547, 0.86683348, 0.8670556 , 0.86880189, 0.86734722,\n",
      "       0.86804306, 0.86834609, 0.86717161, 0.86735401, 0.86733777,\n",
      "       0.86903173, 0.86804495, 0.86863842, 0.86871438, 0.8690186 ,\n",
      "       0.86779193, 0.86847871, 0.86892963, 0.86872039, 0.86926924,\n",
      "       0.86906964, 0.86855729, 0.86881308, 0.8691427 , 0.86929094,\n",
      "       0.86839736, 0.86864361, 0.86917827, 0.87031075]),\n",
      " 'param_n_estimators': masked_array(data=[50, 75, 100, 125, 150, 175, 200, 225, 250, 275, 300,\n",
      "                   325, 350, 375, 400, 425, 450, 475, 500, 525, 550, 575,\n",
      "                   600, 625, 650, 675, 700, 725, 750, 775, 800, 825, 850,\n",
      "                   875, 900, 925, 950, 975, 1000],\n",
      "             mask=[False, False, False, False, False, False, False, False,\n",
      "                   False, False, False, False, False, False, False, False,\n",
      "                   False, False, False, False, False, False, False, False,\n",
      "                   False, False, False, False, False, False, False, False,\n",
      "                   False, False, False, False, False, False, False],\n",
      "       fill_value='?',\n",
      "            dtype=object),\n",
      " 'params': [{'n_estimators': 50},\n",
      "            {'n_estimators': 75},\n",
      "            {'n_estimators': 100},\n",
      "            {'n_estimators': 125},\n",
      "            {'n_estimators': 150},\n",
      "            {'n_estimators': 175},\n",
      "            {'n_estimators': 200},\n",
      "            {'n_estimators': 225},\n",
      "            {'n_estimators': 250},\n",
      "            {'n_estimators': 275},\n",
      "            {'n_estimators': 300},\n",
      "            {'n_estimators': 325},\n",
      "            {'n_estimators': 350},\n",
      "            {'n_estimators': 375},\n",
      "            {'n_estimators': 400},\n",
      "            {'n_estimators': 425},\n",
      "            {'n_estimators': 450},\n",
      "            {'n_estimators': 475},\n",
      "            {'n_estimators': 500},\n",
      "            {'n_estimators': 525},\n",
      "            {'n_estimators': 550},\n",
      "            {'n_estimators': 575},\n",
      "            {'n_estimators': 600},\n",
      "            {'n_estimators': 625},\n",
      "            {'n_estimators': 650},\n",
      "            {'n_estimators': 675},\n",
      "            {'n_estimators': 700},\n",
      "            {'n_estimators': 725},\n",
      "            {'n_estimators': 750},\n",
      "            {'n_estimators': 775},\n",
      "            {'n_estimators': 800},\n",
      "            {'n_estimators': 825},\n",
      "            {'n_estimators': 850},\n",
      "            {'n_estimators': 875},\n",
      "            {'n_estimators': 900},\n",
      "            {'n_estimators': 925},\n",
      "            {'n_estimators': 950},\n",
      "            {'n_estimators': 975},\n",
      "            {'n_estimators': 1000}],\n",
      " 'rank_test_score': array([33, 38, 39, 37, 12, 19, 32, 26,  7, 22, 21, 23,  2, 17, 13, 18, 20,\n",
      "       36, 15,  9, 29, 28, 34, 35, 14, 25,  1,  5, 30, 16,  3,  4,  6, 27,\n",
      "       24, 10, 11,  8, 31], dtype=int32),\n",
      " 'split0_test_score': array([0.87052567, 0.87183397, 0.87147866, 0.87300579, 0.87178691,\n",
      "       0.87298932, 0.87206457, 0.87094216, 0.87268813, 0.87101746,\n",
      "       0.87071627, 0.87161513, 0.87337286, 0.87229281, 0.87377994,\n",
      "       0.87246223, 0.87207398, 0.87044802, 0.87159631, 0.87242929,\n",
      "       0.87184573, 0.87153513, 0.87121041, 0.87048096, 0.87204339,\n",
      "       0.87033037, 0.87254694, 0.87137042, 0.87033978, 0.87115629,\n",
      "       0.8735164 , 0.87283402, 0.87130924, 0.87195868, 0.870088  ,\n",
      "       0.87203398, 0.87026448, 0.87219163, 0.87044802]),\n",
      " 'split0_train_score': array([0.85645229, 0.8534682 , 0.85778425, 0.8560582 , 0.8584948 ,\n",
      "       0.85793406, 0.86112851, 0.86042932, 0.85816008, 0.85887739,\n",
      "       0.85944416, 0.85959599, 0.85934337, 0.8622284 , 0.85878724,\n",
      "       0.86148781, 0.85980346, 0.85905366, 0.85964286, 0.85947392,\n",
      "       0.86130679, 0.85957916, 0.86259734, 0.86069962, 0.86316943,\n",
      "       0.86144856, 0.85983768, 0.86172331, 0.86037828, 0.86087575,\n",
      "       0.86041681, 0.86009058, 0.86065879, 0.86116402, 0.861339  ,\n",
      "       0.86076446, 0.86114619, 0.86113857, 0.86233178]),\n",
      " 'split1_test_score': array([0.83988215, 0.83360515, 0.83395297, 0.83477992, 0.83947904,\n",
      "       0.83749804, 0.83609522, 0.83695672, 0.83703734, 0.84025993,\n",
      "       0.83713179, 0.83554929, 0.83877418, 0.83723084, 0.83683003,\n",
      "       0.83681851, 0.83679778, 0.83657665, 0.8381937 , 0.8391865 ,\n",
      "       0.83517843, 0.83552395, 0.83664575, 0.83685076, 0.83870737,\n",
      "       0.83676553, 0.83799329, 0.83767311, 0.83643613, 0.8393178 ,\n",
      "       0.83796335, 0.83935926, 0.83862675, 0.83776985, 0.83696594,\n",
      "       0.83767541, 0.8403751 , 0.83814763, 0.83731146]),\n",
      " 'split1_train_score': array([0.86036291, 0.86834363, 0.8699961 , 0.86763633, 0.86424726,\n",
      "       0.86848454, 0.8668588 , 0.86643997, 0.86876563, 0.86623359,\n",
      "       0.86799923, 0.86877965, 0.86975273, 0.87070918, 0.86965619,\n",
      "       0.86928563, 0.86652235, 0.86710752, 0.86787248, 0.86805212,\n",
      "       0.86852573, 0.87138497, 0.8684539 , 0.87125244, 0.86998396,\n",
      "       0.86689348, 0.87039383, 0.8701058 , 0.86984175, 0.87166462,\n",
      "       0.87024844, 0.86897852, 0.87014106, 0.86947669, 0.87053937,\n",
      "       0.86985606, 0.87087986, 0.87191653, 0.87118047]),\n",
      " 'split2_test_score': array([0.8377198 , 0.83777469, 0.84085539, 0.84072804, 0.840436  ,\n",
      "       0.84058531, 0.84201477, 0.84265595, 0.84212017, 0.84035036,\n",
      "       0.84174908, 0.84098275, 0.84113426, 0.8423661 , 0.84253079,\n",
      "       0.84020105, 0.84099592, 0.84064899, 0.84205649, 0.84128797,\n",
      "       0.84023398, 0.84286455, 0.84122429, 0.83994633, 0.84071486,\n",
      "       0.84222996, 0.84315878, 0.84349913, 0.84265814, 0.84294799,\n",
      "       0.84157561, 0.8419994 , 0.84206967, 0.84040306, 0.8417403 ,\n",
      "       0.84098495, 0.84191157, 0.84235951, 0.84151852]),\n",
      " 'split2_train_score': array([0.8663479 , 0.86836715, 0.87001251, 0.87093017, 0.86819156,\n",
      "       0.86822846, 0.87042828, 0.87219608, 0.86972518, 0.87170371,\n",
      "       0.87104074, 0.86836217, 0.86846205, 0.86958268, 0.8684931 ,\n",
      "       0.87226872, 0.8710999 , 0.86812419, 0.87057839, 0.87137567,\n",
      "       0.87192236, 0.87128882, 0.87046358, 0.87163635, 0.87043853,\n",
      "       0.86975403, 0.87133158, 0.87073012, 0.87271363, 0.8707534 ,\n",
      "       0.87296992, 0.87053768, 0.87238236, 0.87219534, 0.87090527,\n",
      "       0.87111982, 0.8712774 , 0.87175526, 0.87310084]),\n",
      " 'split3_test_score': array([0.83328854, 0.83484334, 0.83531604, 0.83436601, 0.83573544,\n",
      "       0.83415515, 0.83460236, 0.83499859, 0.83784635, 0.83448882,\n",
      "       0.83592313, 0.83647924, 0.8370956 , 0.83422698, 0.835798  ,\n",
      "       0.83660205, 0.8351492 , 0.83724853, 0.83658351, 0.83643522,\n",
      "       0.83656961, 0.8351214 , 0.83551299, 0.83647461, 0.83637265,\n",
      "       0.83761464, 0.83794367, 0.83726012, 0.83622204, 0.83460004,\n",
      "       0.83688011, 0.83674571, 0.83595325, 0.8358791 , 0.83646534,\n",
      "       0.83691718, 0.83570532, 0.83778147, 0.83568446]),\n",
      " 'split3_train_score': array([0.86892575, 0.86699157, 0.86975697, 0.86702144, 0.86794863,\n",
      "       0.86599034, 0.87099948, 0.86845746, 0.86949924, 0.86941958,\n",
      "       0.86989912, 0.86786464, 0.86757414, 0.86986218, 0.86892142,\n",
      "       0.86827636, 0.87408136, 0.87183417, 0.86928133, 0.86898997,\n",
      "       0.87238009, 0.87042571, 0.87121335, 0.86960069, 0.87009913,\n",
      "       0.87064332, 0.86940673, 0.8700899 , 0.8698528 , 0.87190459,\n",
      "       0.87144915, 0.87101709, 0.86968799, 0.87235946, 0.8712627 ,\n",
      "       0.86983562, 0.87044937, 0.87130412, 0.87294218]),\n",
      " 'split4_test_score': array([0.84533092, 0.84379987, 0.83996385, 0.84051185, 0.84289134,\n",
      "       0.84415079, 0.84267983, 0.84273752, 0.84187465, 0.84280722,\n",
      "       0.84348982, 0.84384314, 0.84478291, 0.84332878, 0.84127137,\n",
      "       0.84335282, 0.84415079, 0.84058877, 0.84140116, 0.84175928,\n",
      "       0.84430221, 0.84312929, 0.84210299, 0.84271588, 0.84229286,\n",
      "       0.84138433, 0.84417482, 0.84368691, 0.84241064, 0.84158863,\n",
      "       0.84437191, 0.84284808, 0.844021  , 0.84226402, 0.84310766,\n",
      "       0.84341291, 0.84230248, 0.84107428, 0.84307401]),\n",
      " 'split4_train_score': array([0.86000276, 0.86858414, 0.86690939, 0.86619384, 0.86609426,\n",
      "       0.8700819 , 0.86894413, 0.86755439, 0.86791767, 0.86990263,\n",
      "       0.86939412, 0.86956496, 0.87014572, 0.87162703, 0.87087815,\n",
      "       0.86889677, 0.87022341, 0.86973851, 0.86939498, 0.86879719,\n",
      "       0.87102366, 0.86754609, 0.87046393, 0.8703828 , 0.87140196,\n",
      "       0.87022026, 0.87142371, 0.87199904, 0.87081548, 0.87114785,\n",
      "       0.8702639 , 0.87216258, 0.87119521, 0.87051801, 0.87240839,\n",
      "       0.87041085, 0.86946523, 0.86977686, 0.87199846]),\n",
      " 'std_fit_time': array([ 1.86248971,  0.57167673,  0.73929203,  0.73691468,  1.41367746,\n",
      "        1.34227942,  1.26072556,  0.39964618,  0.19181122,  0.52138482,\n",
      "        0.18464325,  1.85503425,  3.88159418,  4.67910121,  0.79665747,\n",
      "       22.69600844, 23.53607529,  5.74669011,  7.75141327,  0.28023956,\n",
      "        0.4386504 ,  0.11467565,  0.33183063,  0.39951766,  0.28803115,\n",
      "       18.80302245,  0.65591961,  6.36983995,  7.77123585,  0.63258261,\n",
      "        1.7142857 ,  5.97790426,  1.15333913, 11.36067095,  9.43169134,\n",
      "        8.70258819,  5.02684367, 10.46723993, 38.41487442]),\n",
      " 'std_score_time': array([0.00164267, 0.00055015, 0.0003684 , 0.0007642 , 0.00129006,\n",
      "       0.00518164, 0.00018217, 0.0006836 , 0.00078939, 0.00055542,\n",
      "       0.00396674, 0.00314686, 0.00293615, 0.00074934, 0.00079417,\n",
      "       0.00047597, 0.00115856, 0.00070973, 0.00113165, 0.00046442,\n",
      "       0.00064089, 0.00113651, 0.00068372, 0.00046023, 0.0005983 ,\n",
      "       0.00227646, 0.00264312, 0.00115075, 0.00026472, 0.00102646,\n",
      "       0.00164075, 0.00115295, 0.00176409, 0.00171414, 0.00757506,\n",
      "       0.00057437, 0.00064788, 0.00090882, 0.00526481]),\n",
      " 'std_test_score': array([0.01317354, 0.01417868, 0.01383876, 0.01442352, 0.01306746,\n",
      "       0.01395752, 0.01366297, 0.0130117 , 0.01334954, 0.01291144,\n",
      "       0.01277191, 0.01330979, 0.01342376, 0.01361964, 0.0141047 ,\n",
      "       0.0135192 , 0.01349799, 0.0127855 , 0.01297563, 0.01324181,\n",
      "       0.01348985, 0.01340098, 0.01318508, 0.01279887, 0.01316178,\n",
      "       0.01251293, 0.0129519 , 0.01264042, 0.01267406, 0.01293462,\n",
      "       0.01359283, 0.01321546, 0.01276539, 0.01333481, 0.01248259,\n",
      "       0.01312686, 0.01230452, 0.01305843, 0.01271082]),\n",
      " 'std_train_score': array([0.00454844, 0.00586854, 0.00470176, 0.00501939, 0.00354858,\n",
      "       0.00430713, 0.00357117, 0.00381882, 0.0043727 , 0.00453233,\n",
      "       0.00417159, 0.00366142, 0.00396355, 0.00336344, 0.00435576,\n",
      "       0.003554  , 0.00490518, 0.00436213, 0.00394987, 0.00408692,\n",
      "       0.00408573, 0.00445567, 0.00315666, 0.00406903, 0.00296678,\n",
      "       0.00343286, 0.00438197, 0.00366943, 0.00430037, 0.00421582,\n",
      "       0.00443985, 0.00435507, 0.00418177, 0.00413107, 0.00402503,\n",
      "       0.00384509, 0.00379697, 0.00409031, 0.00404914])}\n",
      "Best Model Parameters: {'n_estimators': 700}\n",
      "Best Model Score: 0.8472\n"
     ]
    },
    {
     "data": {
      "text/plain": [
       "GridSearchCV(cv=5, error_score='raise',\n",
       "       estimator=<catboost.core.CatBoostClassifier object at 0x105d2ef60>,\n",
       "       fit_params=None, iid=True, n_jobs=-1,\n",
       "       param_grid={'n_estimators': range(50, 1001, 25)},\n",
       "       pre_dispatch='2*n_jobs', refit=True, return_train_score=True,\n",
       "       scoring='roc_auc', verbose=0)"
      ]
     },
     "execution_count": 10,
     "metadata": {},
     "output_type": "execute_result"
    },
    {
     "data": {
      "image/png": "[encoded data removed]",
      "text/plain": [
       "<Figure size 720x576 with 1 Axes>"
      ]
     },
     "metadata": {},
     "output_type": "display_data"
    }
   ],
   "source": [
    "model = CatBoostClassifier(\n",
    "    random_state=42,\n",
    "    cat_features=cat_cols,\n",
    "    verbose=False\n",
    ")\n",
    "\n",
    "parameters = {'n_estimators': range(50, 1001, 25)}\n",
    "\n",
    "grid_classifier(model, train_x, train_y, parameters)"
   ]
  },
  {
   "cell_type": "markdown",
   "metadata": {},
   "source": [
    "#### Learning Rate"
   ]
  },
  {
   "cell_type": "code",
   "execution_count": 12,
   "metadata": {
    "scrolled": true
   },
   "outputs": [
    {
     "name": "stdout",
     "output_type": "stream",
     "text": [
      "Seconds to fit: 2116.61\n",
      "Grid Scores: \n",
      "\n",
      "{'mean_fit_time': array([188.00010419, 252.35669317, 188.41044321, 180.09085922,\n",
      "       162.82501078, 157.73911281, 176.7245225 , 180.49327621,\n",
      "       156.5189939 ]),\n",
      " 'mean_score_time': array([0.02323675, 0.02063222, 0.02078938, 0.01956582, 0.01891389,\n",
      "       0.01856279, 0.01813498, 0.01873555, 0.01701517]),\n",
      " 'mean_test_score': array([0.84553496, 0.84628662, 0.84491774, 0.84320874, 0.84265513,\n",
      "       0.84050993, 0.83796067, 0.8384435 , 0.83960518]),\n",
      " 'mean_train_score': array([0.85388807, 0.86432333, 0.87297128, 0.87874088, 0.88292961,\n",
      "       0.88288914, 0.88442994, 0.88775702, 0.8889497 ]),\n",
      " 'param_learning_rate': masked_array(data=[0.01, 0.025, 0.05, 0.075, 0.1, 0.125, 0.15, 0.175, 0.2],\n",
      "             mask=[False, False, False, False, False, False, False, False,\n",
      "                   False],\n",
      "       fill_value='?',\n",
      "            dtype=object),\n",
      " 'params': [{'learning_rate': 0.01},\n",
      "            {'learning_rate': 0.025},\n",
      "            {'learning_rate': 0.05},\n",
      "            {'learning_rate': 0.075},\n",
      "            {'learning_rate': 0.1},\n",
      "            {'learning_rate': 0.125},\n",
      "            {'learning_rate': 0.15},\n",
      "            {'learning_rate': 0.175},\n",
      "            {'learning_rate': 0.2}],\n",
      " 'rank_test_score': array([2, 1, 3, 4, 5, 6, 9, 8, 7], dtype=int32),\n",
      " 'split0_test_score': array([0.87338463, 0.87089039, 0.86947856, 0.86629724, 0.86914443,\n",
      "       0.86574427, 0.86824086, 0.87007389, 0.86199586]),\n",
      " 'split0_train_score': array([0.84721446, 0.85765197, 0.86413317, 0.86927206, 0.87228074,\n",
      "       0.87329149, 0.87484846, 0.88064959, 0.88158471]),\n",
      " 'split1_test_score': array([0.83513927, 0.83718477, 0.8379334 , 0.83227834, 0.83442519,\n",
      "       0.83408888, 0.82476435, 0.82336383, 0.8267776 ]),\n",
      " 'split1_train_score': array([0.85478028, 0.86632276, 0.87220167, 0.87783229, 0.88447645,\n",
      "       0.88625799, 0.88388203, 0.88669358, 0.88947435]),\n",
      " 'split2_test_score': array([0.84239465, 0.84208943, 0.83959062, 0.83990681, 0.83743215,\n",
      "       0.83241037, 0.83229838, 0.83010039, 0.8369337 ]),\n",
      " 'split2_train_score': array([0.8551511 , 0.86745038, 0.87946466, 0.88509594, 0.88948914,\n",
      "       0.88637606, 0.89102349, 0.89455922, 0.89511368]),\n",
      " 'split3_test_score': array([0.83245436, 0.83715353, 0.83721146, 0.83664376, 0.8349198 ,\n",
      "       0.8334322 , 0.8321485 , 0.83523262, 0.83781623]),\n",
      " 'split3_train_score': array([0.85669348, 0.86496964, 0.87510452, 0.88039246, 0.88547996,\n",
      "       0.88198044, 0.88524776, 0.88590524, 0.89013091]),\n",
      " 'split4_test_score': array([0.84428538, 0.84410031, 0.84035803, 0.84090603, 0.8373368 ,\n",
      "       0.8368561 , 0.83233507, 0.83343108, 0.83449343]),\n",
      " 'split4_train_score': array([0.85560105, 0.8652219 , 0.87395237, 0.88111167, 0.88292178,\n",
      "       0.8865397 , 0.88714794, 0.89097748, 0.88844482]),\n",
      " 'std_fit_time': array([46.17963923, 37.03700653, 15.52539971,  1.62803752,  3.36177596,\n",
      "        2.08335456, 13.10831993,  3.49455864, 58.6699167 ]),\n",
      " 'std_score_time': array([0.00340417, 0.00148413, 0.00305221, 0.00217671, 0.00165451,\n",
      "       0.00132128, 0.00057852, 0.00077543, 0.00360307]),\n",
      " 'std_test_score': array([0.0146057 , 0.01260436, 0.01233613, 0.01193486, 0.0133057 ,\n",
      "       0.01270737, 0.01542145, 0.01633142, 0.01185513]),\n",
      " 'std_train_score': array([0.00339803, 0.00344988, 0.00502756, 0.00527673, 0.00575018,\n",
      "       0.0050946 , 0.00535978, 0.00472688, 0.00433966])}\n",
      "Best Model Parameters: {'learning_rate': 0.025}\n",
      "Best Model Score: 0.8463\n"
     ]
    },
    {
     "data": {
      "text/plain": [
       "GridSearchCV(cv=5, error_score='raise',\n",
       "       estimator=<catboost.core.CatBoostClassifier object at 0x1a19154f98>,\n",
       "       fit_params=None, iid=True, n_jobs=-1,\n",
       "       param_grid={'learning_rate': [0.01, 0.025, 0.05, 0.075, 0.1, 0.125, 0.15, 0.175, 0.2]},\n",
       "       pre_dispatch='2*n_jobs', refit=True, return_train_score=True,\n",
       "       scoring='roc_auc', verbose=0)"
      ]
     },
     "execution_count": 12,
     "metadata": {},
     "output_type": "execute_result"
    },
    {
     "data": {
      "image/png": "[encoded data removed]",
      "text/plain": [
       "<Figure size 720x576 with 1 Axes>"
      ]
     },
     "metadata": {},
     "output_type": "display_data"
    }
   ],
   "source": [
    "model = CatBoostClassifier(\n",
    "    random_state=42,\n",
    "    cat_features=cat_cols,\n",
    "    verbose=False,\n",
    "    n_estimators=700\n",
    ")\n",
    "\n",
    "parameters = {'learning_rate': [0.01, 0.025, 0.05, 0.075, 0.1, 0.125, 0.15, 0.175, 0.2]}\n",
    "\n",
    "grid_classifier(model, train_x, train_y, parameters)"
   ]
  },
  {
   "cell_type": "markdown",
   "metadata": {},
   "source": [
    "#### Max Depth\n",
    "Could pick default of None or 6 which has same AUC, going with 6"
   ]
  },
  {
   "cell_type": "code",
   "execution_count": 13,
   "metadata": {
    "scrolled": true
   },
   "outputs": [
    {
     "name": "stdout",
     "output_type": "stream",
     "text": [
      "Seconds to fit: 2132.65\n",
      "Grid Scores: \n",
      "\n",
      "{'mean_fit_time': array([155.19957576, 157.57466536, 150.41585302, 192.29595776,\n",
      "       176.76850238, 202.16736836, 259.78653135, 380.55239139]),\n",
      " 'mean_score_time': array([0.0213778 , 0.01679029, 0.01863594, 0.0183322 , 0.01889606,\n",
      "       0.02057605, 0.02177844, 0.02279282]),\n",
      " 'mean_test_score': array([0.84698311, 0.84662189, 0.84665466, 0.84628662, 0.84680932,\n",
      "       0.84650966, 0.84669623, 0.84609633]),\n",
      " 'mean_train_score': array([0.85593471, 0.85867314, 0.86153381, 0.86432333, 0.86720961,\n",
      "       0.86823822, 0.87096368, 0.87227527]),\n",
      " 'param_max_depth': masked_array(data=[3, 4, 5, 6, 7, 8, 9, 10],\n",
      "             mask=[False, False, False, False, False, False, False, False],\n",
      "       fill_value='?',\n",
      "            dtype=object),\n",
      " 'params': [{'max_depth': 3},\n",
      "            {'max_depth': 4},\n",
      "            {'max_depth': 5},\n",
      "            {'max_depth': 6},\n",
      "            {'max_depth': 7},\n",
      "            {'max_depth': 8},\n",
      "            {'max_depth': 9},\n",
      "            {'max_depth': 10}],\n",
      " 'rank_test_score': array([1, 5, 4, 7, 2, 6, 3, 8], dtype=int32),\n",
      " 'split0_test_score': array([0.87318462, 0.87275872, 0.87200339, 0.87089039, 0.87297049,\n",
      "       0.87438703, 0.87183397, 0.87301285]),\n",
      " 'split0_train_score': array([0.84927421, 0.85281128, 0.85463423, 0.85765197, 0.8591891 ,\n",
      "       0.86124224, 0.86412008, 0.86523306]),\n",
      " 'split1_test_score': array([0.83853001, 0.83790115, 0.83899531, 0.83718477, 0.83862906,\n",
      "       0.83790115, 0.83790806, 0.83762704]),\n",
      " 'split1_train_score': array([0.85722893, 0.85950864, 0.86373435, 0.86632276, 0.86836906,\n",
      "       0.86763113, 0.87292747, 0.87269695]),\n",
      " 'split2_test_score': array([0.84383948, 0.84287113, 0.84115622, 0.84208943, 0.84232438,\n",
      "       0.84036573, 0.8434618 , 0.84017031]),\n",
      " 'split2_train_score': array([0.85763225, 0.86052155, 0.86288569, 0.86745038, 0.86838077,\n",
      "       0.86945952, 0.87480141, 0.87401601]),\n",
      " 'split3_test_score': array([0.83536933, 0.8351492 , 0.83678742, 0.83715353, 0.83603898,\n",
      "       0.83632863, 0.83584666, 0.83635643]),\n",
      " 'split3_train_score': array([0.85807077, 0.8607444 , 0.86283213, 0.86496964, 0.86959895,\n",
      "       0.87087278, 0.87190286, 0.87591078]),\n",
      " 'split4_test_score': array([0.84397533, 0.84441277, 0.84431423, 0.84410031, 0.84406666,\n",
      "       0.8435475 , 0.84441517, 0.84329754]),\n",
      " 'split4_train_score': array([0.85746738, 0.85977985, 0.86358263, 0.8652219 , 0.87051014,\n",
      "       0.87198544, 0.87106658, 0.87351955]),\n",
      " 'std_fit_time': array([ 2.78474221,  7.5267465 ,  1.05244299, 17.73370118,  6.08573802,\n",
      "       12.02222453, 27.74371598, 38.60950854]),\n",
      " 'std_score_time': array([0.0041189 , 0.00109761, 0.0015438 , 0.00088134, 0.00078705,\n",
      "       0.00222057, 0.00140265, 0.0063259 ]),\n",
      " 'std_test_score': array([0.01350671, 0.0134917 , 0.0129201 , 0.01260436, 0.01338158,\n",
      "       0.01415526, 0.01298359, 0.01367073]),\n",
      " 'std_train_score': array([0.00334158, 0.00296618, 0.00346864, 0.00344988, 0.00409016,\n",
      "       0.0037891 , 0.00364176, 0.00367602])}\n",
      "Best Model Parameters: {'max_depth': 3}\n",
      "Best Model Score: 0.8470\n"
     ]
    },
    {
     "data": {
      "text/plain": [
       "GridSearchCV(cv=5, error_score='raise',\n",
       "       estimator=<catboost.core.CatBoostClassifier object at 0x1a19114320>,\n",
       "       fit_params=None, iid=True, n_jobs=-1,\n",
       "       param_grid={'max_depth': range(3, 11)}, pre_dispatch='2*n_jobs',\n",
       "       refit=True, return_train_score=True, scoring='roc_auc', verbose=0)"
      ]
     },
     "execution_count": 13,
     "metadata": {},
     "output_type": "execute_result"
    },
    {
     "data": {
      "image/png": "[encoded data removed]",
      "text/plain": [
       "<Figure size 720x576 with 1 Axes>"
      ]
     },
     "metadata": {},
     "output_type": "display_data"
    }
   ],
   "source": [
    "model = CatBoostClassifier(\n",
    "    random_state=42,\n",
    "    cat_features=cat_cols,\n",
    "    verbose=False,\n",
    "    n_estimators=700,\n",
    "    learning_rate=0.025\n",
    ")\n",
    "\n",
    "parameters = {'max_depth': range(3, 11)}\n",
    "\n",
    "grid_classifier(model, train_x, train_y, parameters)"
   ]
  },
  {
   "cell_type": "markdown",
   "metadata": {},
   "source": [
    "#### L2 Leaf Reg\n",
    "Sticking with default of None"
   ]
  },
  {
   "cell_type": "code",
   "execution_count": 5,
   "metadata": {
    "scrolled": true
   },
   "outputs": [
    {
     "name": "stdout",
     "output_type": "stream",
     "text": [
      "Seconds to fit: 2146.74\n",
      "Grid Scores: \n",
      "\n",
      "{'mean_fit_time': array([190.59839201, 170.81801558, 167.24259706, 169.0604548 ,\n",
      "       164.10678387, 167.54968748, 176.52469721, 166.56880927,\n",
      "       161.93475862, 131.79862151]),\n",
      " 'mean_score_time': array([0.0226233 , 0.01965418, 0.01862836, 0.01943502, 0.0185174 ,\n",
      "       0.0210794 , 0.01868968, 0.0195282 , 0.01818023, 0.01711745]),\n",
      " 'mean_test_score': array([0.84735174, 0.84683387, 0.84680932, 0.84636318, 0.84677603,\n",
      "       0.84631376, 0.84642163, 0.84672569, 0.84623311, 0.84668105]),\n",
      " 'mean_train_score': array([0.8677112 , 0.8664312 , 0.86720961, 0.86639737, 0.86620842,\n",
      "       0.86608477, 0.86573401, 0.86588934, 0.86639781, 0.86534689]),\n",
      " 'param_l2_leaf_reg': masked_array(data=[1, 2, 3, 4, 5, 6, 7, 8, 9, 10],\n",
      "             mask=[False, False, False, False, False, False, False, False,\n",
      "                   False, False],\n",
      "       fill_value='?',\n",
      "            dtype=object),\n",
      " 'params': [{'l2_leaf_reg': 1},\n",
      "            {'l2_leaf_reg': 2},\n",
      "            {'l2_leaf_reg': 3},\n",
      "            {'l2_leaf_reg': 4},\n",
      "            {'l2_leaf_reg': 5},\n",
      "            {'l2_leaf_reg': 6},\n",
      "            {'l2_leaf_reg': 7},\n",
      "            {'l2_leaf_reg': 8},\n",
      "            {'l2_leaf_reg': 9},\n",
      "            {'l2_leaf_reg': 10}],\n",
      " 'rank_test_score': array([ 1,  2,  3,  8,  4,  9,  7,  5, 10,  6], dtype=int32),\n",
      " 'split0_test_score': array([0.87399407, 0.87278225, 0.87297049, 0.87316815, 0.87246223,\n",
      "       0.87195397, 0.87417996, 0.873827  , 0.87225987, 0.87145748]),\n",
      " 'split0_train_score': array([0.85791969, 0.85748001, 0.8591891 , 0.85842837, 0.85909823,\n",
      "       0.85943654, 0.85806663, 0.85930973, 0.85935372, 0.85753882]),\n",
      " 'split1_test_score': array([0.84012863, 0.83863597, 0.83862906, 0.83752568, 0.83867052,\n",
      "       0.83908284, 0.83811077, 0.83831348, 0.83885249, 0.8388548 ]),\n",
      " 'split1_train_score': array([0.86988973, 0.86747403, 0.86836906, 0.86799402, 0.86656339,\n",
      "       0.86630744, 0.86725421, 0.86715478, 0.86768055, 0.86611754]),\n",
      " 'split2_test_score': array([0.84210261, 0.84097177, 0.84232438, 0.84129455, 0.8420543 ,\n",
      "       0.84175787, 0.84281843, 0.84196647, 0.84228925, 0.84230023]),\n",
      " 'split2_train_score': array([0.87138885, 0.86833347, 0.86838077, 0.86975842, 0.86989111,\n",
      "       0.86809856, 0.86825512, 0.86797833, 0.86862505, 0.86800469]),\n",
      " 'split3_test_score': array([0.83640509, 0.83698206, 0.83603898, 0.83576788, 0.83607142,\n",
      "       0.83528128, 0.83418295, 0.83658119, 0.83562885, 0.8365418 ]),\n",
      " 'split3_train_score': array([0.87133875, 0.86995396, 0.86959895, 0.86794329, 0.86783967,\n",
      "       0.86773606, 0.86808139, 0.86756635, 0.86865531, 0.86691335]),\n",
      " 'split4_test_score': array([0.84410993, 0.84478051, 0.84406666, 0.84404263, 0.84460505,\n",
      "       0.8434754 , 0.8427976 , 0.84292259, 0.84211741, 0.84423491]),\n",
      " 'split4_train_score': array([0.86801897, 0.86891451, 0.87051014, 0.86786273, 0.86764968,\n",
      "       0.86884526, 0.86701269, 0.8674375 , 0.86767444, 0.86816005]),\n",
      " 'std_fit_time': array([ 9.13784416,  0.70606365,  1.56801345,  1.69052626,  1.6333128 ,\n",
      "        1.73570561,  6.58285465,  7.57671358,  1.17307581, 38.63372265]),\n",
      " 'std_score_time': array([0.00033978, 0.00189279, 0.00081336, 0.00099083, 0.0006345 ,\n",
      "       0.00329381, 0.00027166, 0.001811  , 0.00048823, 0.00250624]),\n",
      " 'std_test_score': array([0.01356652, 0.01324033, 0.01338158, 0.01371381, 0.01317145,\n",
      "       0.01311931, 0.01425417, 0.01375264, 0.01324515, 0.01267625]),\n",
      " 'std_train_score': array([0.00504775, 0.00454767, 0.00409016, 0.00404693, 0.00371433,\n",
      "       0.00342494, 0.00386267, 0.00330048, 0.00354828, 0.00397471])}\n",
      "Best Model Parameters: {'l2_leaf_reg': 1}\n",
      "Best Model Score: 0.8474\n"
     ]
    },
    {
     "data": {
      "text/plain": [
       "GridSearchCV(cv=5, error_score='raise',\n",
       "       estimator=<catboost.core.CatBoostClassifier object at 0x1a1dd9e240>,\n",
       "       fit_params=None, iid=True, n_jobs=-1,\n",
       "       param_grid={'l2_leaf_reg': range(1, 11)}, pre_dispatch='2*n_jobs',\n",
       "       refit=True, return_train_score=True, scoring='roc_auc', verbose=0)"
      ]
     },
     "execution_count": 5,
     "metadata": {},
     "output_type": "execute_result"
    },
    {
     "data": {
      "image/png": "[encoded data removed]",
      "text/plain": [
       "<Figure size 720x576 with 1 Axes>"
      ]
     },
     "metadata": {},
     "output_type": "display_data"
    }
   ],
   "source": [
    "model = CatBoostClassifier(\n",
    "    random_state=42,\n",
    "    cat_features=cat_cols,\n",
    "    verbose=False,\n",
    "    n_estimators=700,\n",
    "    learning_rate=0.025,\n",
    "    max_depth=7,\n",
    ")\n",
    "\n",
    "parameters = {'l2_leaf_reg': range(1, 11)}\n",
    "\n",
    "grid_classifier(model, train_x, train_y, parameters)"
   ]
  },
  {
   "cell_type": "markdown",
   "metadata": {},
   "source": [
    "#### Final CatBoost Model"
   ]
  },
  {
   "cell_type": "code",
   "execution_count": 7,
   "metadata": {},
   "outputs": [
    {
     "name": "stdout",
     "output_type": "stream",
     "text": [
      "Seconds to fit: 194.60\n",
      "AUC: 0.85413\n"
     ]
    }
   ],
   "source": [
    "model = CatBoostClassifier(\n",
    "    random_state=42,\n",
    "    cat_features=cat_cols,\n",
    "    verbose=False,\n",
    "    n_estimators=700,\n",
    "    learning_rate=0.025,\n",
    "    max_depth=7,\n",
    "    l2_leaf_reg=1\n",
    ")\n",
    "\n",
    "gsearch = grid_classifier(model, test_x, test_y, verbose=False)"
   ]
  },
  {
   "cell_type": "code",
   "execution_count": null,
   "metadata": {},
   "outputs": [],
   "source": []
  }
 ],
 "metadata": {
  "kernelspec": {
   "display_name": "Python 3",
   "language": "python",
   "name": "python3"
  },
  "language_info": {
   "codemirror_mode": {
    "name": "ipython",
    "version": 3
   },
   "file_extension": ".py",
   "mimetype": "text/x-python",
   "name": "python",
   "nbconvert_exporter": "python",
   "pygments_lexer": "ipython3",
   "version": "3.6.6"
  }
 },
 "nbformat": 4,
 "nbformat_minor": 2
}
