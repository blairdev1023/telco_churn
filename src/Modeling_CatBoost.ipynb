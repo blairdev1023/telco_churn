{
 "cells": [
  {
   "cell_type": "markdown",
   "metadata": {},
   "source": [
    "# Modeling Performance\n",
    "\n",
    "|  Model                |  Out Of Box AUC  |  Tuned AUC  |\n",
    "|-----------------------|------------------|-------------|\n",
    "|  CatBoost             |  0.8572          |  0.     |"
   ]
  },
  {
   "cell_type": "code",
   "execution_count": 1,
   "metadata": {},
   "outputs": [],
   "source": [
    "# General\n",
    "import pandas as pd\n",
    "import numpy as np\n",
    "from time import time\n",
    "from pprint import PrettyPrinter\n",
    "import pickle\n",
    "\n",
    "# Data Tools\n",
    "from sklearn.preprocessing import StandardScaler\n",
    "from sklearn.model_selection import GridSearchCV\n",
    "from sklearn.model_selection import train_test_split\n",
    "\n",
    "# Models\n",
    "from catboost import CatBoostClassifier\n",
    "\n",
    "# Plotting Tools\n",
    "import seaborn as sns\n",
    "import matplotlib.pyplot as plt\n",
    "sns.set()\n",
    "%matplotlib inline\n",
    "pp = PrettyPrinter()"
   ]
  },
  {
   "cell_type": "code",
   "execution_count": 17,
   "metadata": {},
   "outputs": [],
   "source": [
    "df = pd.read_csv('../data/telco_churn_clean.csv')"
   ]
  },
  {
   "cell_type": "code",
   "execution_count": 18,
   "metadata": {},
   "outputs": [],
   "source": [
    "# Get rid of IDs\n",
    "df.drop('customerID', axis=1, inplace=True)\n",
    "\n",
    "# Turn the target into integers and seperate\n",
    "df['Churn'] = df['Churn'].replace('Yes', 1)\n",
    "df['Churn'] = df['Churn'].replace('No', 0)\n",
    "target = df['Churn']\n",
    "df.drop('Churn', axis=1, inplace=True)\n",
    "\n",
    "# Standardize Numerics\n",
    "scaler = StandardScaler()\n",
    "numer_cols = ['tenure', 'MonthlyCharges', 'TotalCharges']\n",
    "numerics = df[numer_cols]\n",
    "numerics = pd.DataFrame(scaler.fit_transform(numerics), columns=numer_cols)\n",
    "for col in numerics:\n",
    "    df[col] = numerics[col]\n",
    "\n",
    "# Get columns which have 4 or less unique vals in them, aka the categoricals in this dataset\n",
    "cat_cols = df.nunique()[df.nunique() <= 4].index.tolist()\n",
    "# Get column indices (catboost only accepts a list of integers - not strings)\n",
    "cat_cols = [df.columns.get_loc(col) for col in cat_cols]\n",
    "\n",
    "# Train Test Split\n",
    "train_x, test_x, train_y, test_y = train_test_split(df, target, random_state=42)"
   ]
  },
  {
   "cell_type": "markdown",
   "metadata": {},
   "source": [
    "## Main Modeling Function"
   ]
  },
  {
   "cell_type": "code",
   "execution_count": 19,
   "metadata": {},
   "outputs": [],
   "source": [
    "def grid_classifier(model, train, target, parameters={}, cv=5, timed=True, feat_imp=False, verbose=True):\n",
    "    '''\n",
    "    For tuning models.\n",
    "    \n",
    "    Automatically plots CV results, but this requires training over on parameter at a time.\n",
    "    If the parameters argument stays an empty dictionary then no plot is made (duh...)\n",
    "    \n",
    "    Returns the GridSearch object\n",
    "    \n",
    "        Parameters:\n",
    "        -----------\n",
    "    model - model\n",
    "    train - array of training data\n",
    "    target - array of target data\n",
    "    parameters - dict of parameters the GSearcher will run over\n",
    "    cv - int, k-fold number\n",
    "    timed - boolean, gives printout of timings\n",
    "    \n",
    "        Returns :\n",
    "        ---------\n",
    "    gsearcher - fitted and searched GridSearchCV object\n",
    "    '''\n",
    "    if timed:\n",
    "        start = time()\n",
    "    \n",
    "    # Grid Search\n",
    "    gsearcher = GridSearchCV(\n",
    "        estimator=model, \n",
    "        param_grid=parameters,\n",
    "        scoring='roc_auc',\n",
    "        n_jobs=-1,\n",
    "        cv=cv,\n",
    "        return_train_score=True\n",
    "    )\n",
    "    gsearcher.fit(train, target)\n",
    "    results = gsearcher.cv_results_\n",
    "    \n",
    "    if timed:\n",
    "        passed = time() - start\n",
    "        print(f'Seconds to fit: {passed:.2f}')\n",
    "\n",
    "    if verbose:\n",
    "        # Print Report\n",
    "        print('Grid Scores: \\n')\n",
    "        pp.pprint(results)\n",
    "        print(f'Best Model Parameters: {gsearcher.best_params_}')\n",
    "        print(f'Best Model Score: {gsearcher.best_score_:.4f}')\n",
    "    else:\n",
    "        score = np.mean(results['mean_test_score'])\n",
    "        print(f'AUC: {round(score, 4)}')\n",
    "    \n",
    "    # Plot CV Results\n",
    "    if parameters:\n",
    "        test_means = results['mean_test_score']\n",
    "        train_means = results['mean_train_score']\n",
    "        x = range(len(test_means))\n",
    "        model_name = str(model.__class__).split('.')[-1][:-2]\n",
    "        param = list(results['params'][0].keys())[0]\n",
    "        labels = [str(pair[param]) for pair in results['params']]\n",
    "\n",
    "        plt.figure(figsize=(10, 8))\n",
    "        plt.plot(x, test_means, label='Test', color='blue')\n",
    "        plt.plot(x, train_means, label='Train', color='green')\n",
    "        plt.title(f'{model_name} over {param}')\n",
    "        plt.xlabel(param)\n",
    "        plt.ylabel('AUC Scores')\n",
    "        plt.xticks(x, labels, rotation=60)\n",
    "        plt.legend()\n",
    "    \n",
    "    # Plot Feature Importance\n",
    "    if feat_imp:\n",
    "        best_model = gsearcher.best_estimator_\n",
    "        best_model.fit(train, target)\n",
    "        feat_series = pd.Series(best_model.feature_importances_, index=train.columns)\n",
    "        feat_series.sort_values(ascending=False, inplace=True)\n",
    "\n",
    "        plt.figure(figsize=(10, 8))\n",
    "        feat_series.plot(kind='bar', title='Feature Importances')\n",
    "        plt.ylabel('Feature Importance Score')\n",
    "        plt.xticks(rotation=60)        \n",
    "    \n",
    "    return gsearcher"
   ]
  },
  {
   "cell_type": "markdown",
   "metadata": {},
   "source": [
    "## Modeling\n",
    "\n",
    "## Table of Contents\n",
    "* Baseline\n",
    "* Loss Function\n",
    "* N Estimators\n",
    "* Max Depth\n",
    "* L2 Leaf Reg\n",
    "* Border Count\n",
    "* Ctr Border Count\n",
    "* Learning Rate\n",
    "* Final Model\n",
    "\n",
    "### Baseline"
   ]
  },
  {
   "cell_type": "code",
   "execution_count": 20,
   "metadata": {
    "scrolled": true
   },
   "outputs": [
    {
     "name": "stdout",
     "output_type": "stream",
     "text": [
      "Seconds to fit: 279.65\n",
      "AUC: 0.8572\n"
     ]
    }
   ],
   "source": [
    "model = CatBoostClassifier(\n",
    "    random_state=42,\n",
    "    cat_features=cat_cols,\n",
    "    verbose=False\n",
    ")\n",
    "\n",
    "baseline_gsearch = grid_classifier(model, test_x, test_y, verbose=False)"
   ]
  },
  {
   "cell_type": "code",
   "execution_count": 21,
   "metadata": {},
   "outputs": [
    {
     "data": {
      "text/plain": [
       "1000"
      ]
     },
     "execution_count": 21,
     "metadata": {},
     "output_type": "execute_result"
    }
   ],
   "source": [
    "baseline_gsearch.best_estimator_.tree_count_"
   ]
  },
  {
   "cell_type": "code",
   "execution_count": 22,
   "metadata": {},
   "outputs": [
    {
     "data": {
      "text/plain": [
       "0.01966400072"
      ]
     },
     "execution_count": 22,
     "metadata": {},
     "output_type": "execute_result"
    }
   ],
   "source": [
    "baseline_lr = baseline_gsearch.best_estimator_.learning_rate_\n",
    "baseline_lr"
   ]
  },
  {
   "cell_type": "code",
   "execution_count": 23,
   "metadata": {
    "scrolled": true
   },
   "outputs": [
    {
     "ename": "KeyboardInterrupt",
     "evalue": "",
     "output_type": "error",
     "traceback": [
      "\u001b[0;31m---------------------------------------------------------------------------\u001b[0m",
      "\u001b[0;31mKeyboardInterrupt\u001b[0m                         Traceback (most recent call last)",
      "\u001b[0;32m<ipython-input-23-50b07fef30ba>\u001b[0m in \u001b[0;36m<module>\u001b[0;34m()\u001b[0m\n\u001b[1;32m      7\u001b[0m )\n\u001b[1;32m      8\u001b[0m \u001b[0;34m\u001b[0m\u001b[0m\n\u001b[0;32m----> 9\u001b[0;31m \u001b[0mgrid_classifier\u001b[0m\u001b[0;34m(\u001b[0m\u001b[0mmodel\u001b[0m\u001b[0;34m,\u001b[0m \u001b[0mtest_x\u001b[0m\u001b[0;34m,\u001b[0m \u001b[0mtest_y\u001b[0m\u001b[0;34m,\u001b[0m \u001b[0mverbose\u001b[0m\u001b[0;34m=\u001b[0m\u001b[0;32mFalse\u001b[0m\u001b[0;34m)\u001b[0m\u001b[0;34m\u001b[0m\u001b[0m\n\u001b[0m",
      "\u001b[0;32m<ipython-input-19-fa4bee9f5e93>\u001b[0m in \u001b[0;36mgrid_classifier\u001b[0;34m(model, train, target, parameters, cv, timed, feat_imp, verbose)\u001b[0m\n\u001b[1;32m     33\u001b[0m         \u001b[0mreturn_train_score\u001b[0m\u001b[0;34m=\u001b[0m\u001b[0;32mTrue\u001b[0m\u001b[0;34m\u001b[0m\u001b[0m\n\u001b[1;32m     34\u001b[0m     )\n\u001b[0;32m---> 35\u001b[0;31m     \u001b[0mgsearcher\u001b[0m\u001b[0;34m.\u001b[0m\u001b[0mfit\u001b[0m\u001b[0;34m(\u001b[0m\u001b[0mtrain\u001b[0m\u001b[0;34m,\u001b[0m \u001b[0mtarget\u001b[0m\u001b[0;34m)\u001b[0m\u001b[0;34m\u001b[0m\u001b[0m\n\u001b[0m\u001b[1;32m     36\u001b[0m     \u001b[0mresults\u001b[0m \u001b[0;34m=\u001b[0m \u001b[0mgsearcher\u001b[0m\u001b[0;34m.\u001b[0m\u001b[0mcv_results_\u001b[0m\u001b[0;34m\u001b[0m\u001b[0m\n\u001b[1;32m     37\u001b[0m \u001b[0;34m\u001b[0m\u001b[0m\n",
      "\u001b[0;32m~/anaconda3/lib/python3.6/site-packages/sklearn/model_selection/_search.py\u001b[0m in \u001b[0;36mfit\u001b[0;34m(self, X, y, groups, **fit_params)\u001b[0m\n\u001b[1;32m    637\u001b[0m                                   error_score=self.error_score)\n\u001b[1;32m    638\u001b[0m           for parameters, (train, test) in product(candidate_params,\n\u001b[0;32m--> 639\u001b[0;31m                                                    cv.split(X, y, groups)))\n\u001b[0m\u001b[1;32m    640\u001b[0m \u001b[0;34m\u001b[0m\u001b[0m\n\u001b[1;32m    641\u001b[0m         \u001b[0;31m# if one choose to see train score, \"out\" will contain train score info\u001b[0m\u001b[0;34m\u001b[0m\u001b[0;34m\u001b[0m\u001b[0m\n",
      "\u001b[0;32m~/anaconda3/lib/python3.6/site-packages/sklearn/externals/joblib/parallel.py\u001b[0m in \u001b[0;36m__call__\u001b[0;34m(self, iterable)\u001b[0m\n\u001b[1;32m    787\u001b[0m                 \u001b[0;31m# consumption.\u001b[0m\u001b[0;34m\u001b[0m\u001b[0;34m\u001b[0m\u001b[0m\n\u001b[1;32m    788\u001b[0m                 \u001b[0mself\u001b[0m\u001b[0;34m.\u001b[0m\u001b[0m_iterating\u001b[0m \u001b[0;34m=\u001b[0m \u001b[0;32mFalse\u001b[0m\u001b[0;34m\u001b[0m\u001b[0m\n\u001b[0;32m--> 789\u001b[0;31m             \u001b[0mself\u001b[0m\u001b[0;34m.\u001b[0m\u001b[0mretrieve\u001b[0m\u001b[0;34m(\u001b[0m\u001b[0;34m)\u001b[0m\u001b[0;34m\u001b[0m\u001b[0m\n\u001b[0m\u001b[1;32m    790\u001b[0m             \u001b[0;31m# Make sure that we get a last message telling us we are done\u001b[0m\u001b[0;34m\u001b[0m\u001b[0;34m\u001b[0m\u001b[0m\n\u001b[1;32m    791\u001b[0m             \u001b[0melapsed_time\u001b[0m \u001b[0;34m=\u001b[0m \u001b[0mtime\u001b[0m\u001b[0;34m.\u001b[0m\u001b[0mtime\u001b[0m\u001b[0;34m(\u001b[0m\u001b[0;34m)\u001b[0m \u001b[0;34m-\u001b[0m \u001b[0mself\u001b[0m\u001b[0;34m.\u001b[0m\u001b[0m_start_time\u001b[0m\u001b[0;34m\u001b[0m\u001b[0m\n",
      "\u001b[0;32m~/anaconda3/lib/python3.6/site-packages/sklearn/externals/joblib/parallel.py\u001b[0m in \u001b[0;36mretrieve\u001b[0;34m(self)\u001b[0m\n\u001b[1;32m    697\u001b[0m             \u001b[0;32mtry\u001b[0m\u001b[0;34m:\u001b[0m\u001b[0;34m\u001b[0m\u001b[0m\n\u001b[1;32m    698\u001b[0m                 \u001b[0;32mif\u001b[0m \u001b[0mgetattr\u001b[0m\u001b[0;34m(\u001b[0m\u001b[0mself\u001b[0m\u001b[0;34m.\u001b[0m\u001b[0m_backend\u001b[0m\u001b[0;34m,\u001b[0m \u001b[0;34m'supports_timeout'\u001b[0m\u001b[0;34m,\u001b[0m \u001b[0;32mFalse\u001b[0m\u001b[0;34m)\u001b[0m\u001b[0;34m:\u001b[0m\u001b[0;34m\u001b[0m\u001b[0m\n\u001b[0;32m--> 699\u001b[0;31m                     \u001b[0mself\u001b[0m\u001b[0;34m.\u001b[0m\u001b[0m_output\u001b[0m\u001b[0;34m.\u001b[0m\u001b[0mextend\u001b[0m\u001b[0;34m(\u001b[0m\u001b[0mjob\u001b[0m\u001b[0;34m.\u001b[0m\u001b[0mget\u001b[0m\u001b[0;34m(\u001b[0m\u001b[0mtimeout\u001b[0m\u001b[0;34m=\u001b[0m\u001b[0mself\u001b[0m\u001b[0;34m.\u001b[0m\u001b[0mtimeout\u001b[0m\u001b[0;34m)\u001b[0m\u001b[0;34m)\u001b[0m\u001b[0;34m\u001b[0m\u001b[0m\n\u001b[0m\u001b[1;32m    700\u001b[0m                 \u001b[0;32melse\u001b[0m\u001b[0;34m:\u001b[0m\u001b[0;34m\u001b[0m\u001b[0m\n\u001b[1;32m    701\u001b[0m                     \u001b[0mself\u001b[0m\u001b[0;34m.\u001b[0m\u001b[0m_output\u001b[0m\u001b[0;34m.\u001b[0m\u001b[0mextend\u001b[0m\u001b[0;34m(\u001b[0m\u001b[0mjob\u001b[0m\u001b[0;34m.\u001b[0m\u001b[0mget\u001b[0m\u001b[0;34m(\u001b[0m\u001b[0;34m)\u001b[0m\u001b[0;34m)\u001b[0m\u001b[0;34m\u001b[0m\u001b[0m\n",
      "\u001b[0;32m~/anaconda3/lib/python3.6/multiprocessing/pool.py\u001b[0m in \u001b[0;36mget\u001b[0;34m(self, timeout)\u001b[0m\n\u001b[1;32m    636\u001b[0m \u001b[0;34m\u001b[0m\u001b[0m\n\u001b[1;32m    637\u001b[0m     \u001b[0;32mdef\u001b[0m \u001b[0mget\u001b[0m\u001b[0;34m(\u001b[0m\u001b[0mself\u001b[0m\u001b[0;34m,\u001b[0m \u001b[0mtimeout\u001b[0m\u001b[0;34m=\u001b[0m\u001b[0;32mNone\u001b[0m\u001b[0;34m)\u001b[0m\u001b[0;34m:\u001b[0m\u001b[0;34m\u001b[0m\u001b[0m\n\u001b[0;32m--> 638\u001b[0;31m         \u001b[0mself\u001b[0m\u001b[0;34m.\u001b[0m\u001b[0mwait\u001b[0m\u001b[0;34m(\u001b[0m\u001b[0mtimeout\u001b[0m\u001b[0;34m)\u001b[0m\u001b[0;34m\u001b[0m\u001b[0m\n\u001b[0m\u001b[1;32m    639\u001b[0m         \u001b[0;32mif\u001b[0m \u001b[0;32mnot\u001b[0m \u001b[0mself\u001b[0m\u001b[0;34m.\u001b[0m\u001b[0mready\u001b[0m\u001b[0;34m(\u001b[0m\u001b[0;34m)\u001b[0m\u001b[0;34m:\u001b[0m\u001b[0;34m\u001b[0m\u001b[0m\n\u001b[1;32m    640\u001b[0m             \u001b[0;32mraise\u001b[0m \u001b[0mTimeoutError\u001b[0m\u001b[0;34m\u001b[0m\u001b[0m\n",
      "\u001b[0;32m~/anaconda3/lib/python3.6/multiprocessing/pool.py\u001b[0m in \u001b[0;36mwait\u001b[0;34m(self, timeout)\u001b[0m\n\u001b[1;32m    633\u001b[0m \u001b[0;34m\u001b[0m\u001b[0m\n\u001b[1;32m    634\u001b[0m     \u001b[0;32mdef\u001b[0m \u001b[0mwait\u001b[0m\u001b[0;34m(\u001b[0m\u001b[0mself\u001b[0m\u001b[0;34m,\u001b[0m \u001b[0mtimeout\u001b[0m\u001b[0;34m=\u001b[0m\u001b[0;32mNone\u001b[0m\u001b[0;34m)\u001b[0m\u001b[0;34m:\u001b[0m\u001b[0;34m\u001b[0m\u001b[0m\n\u001b[0;32m--> 635\u001b[0;31m         \u001b[0mself\u001b[0m\u001b[0;34m.\u001b[0m\u001b[0m_event\u001b[0m\u001b[0;34m.\u001b[0m\u001b[0mwait\u001b[0m\u001b[0;34m(\u001b[0m\u001b[0mtimeout\u001b[0m\u001b[0;34m)\u001b[0m\u001b[0;34m\u001b[0m\u001b[0m\n\u001b[0m\u001b[1;32m    636\u001b[0m \u001b[0;34m\u001b[0m\u001b[0m\n\u001b[1;32m    637\u001b[0m     \u001b[0;32mdef\u001b[0m \u001b[0mget\u001b[0m\u001b[0;34m(\u001b[0m\u001b[0mself\u001b[0m\u001b[0;34m,\u001b[0m \u001b[0mtimeout\u001b[0m\u001b[0;34m=\u001b[0m\u001b[0;32mNone\u001b[0m\u001b[0;34m)\u001b[0m\u001b[0;34m:\u001b[0m\u001b[0;34m\u001b[0m\u001b[0m\n",
      "\u001b[0;32m~/anaconda3/lib/python3.6/threading.py\u001b[0m in \u001b[0;36mwait\u001b[0;34m(self, timeout)\u001b[0m\n\u001b[1;32m    549\u001b[0m             \u001b[0msignaled\u001b[0m \u001b[0;34m=\u001b[0m \u001b[0mself\u001b[0m\u001b[0;34m.\u001b[0m\u001b[0m_flag\u001b[0m\u001b[0;34m\u001b[0m\u001b[0m\n\u001b[1;32m    550\u001b[0m             \u001b[0;32mif\u001b[0m \u001b[0;32mnot\u001b[0m \u001b[0msignaled\u001b[0m\u001b[0;34m:\u001b[0m\u001b[0;34m\u001b[0m\u001b[0m\n\u001b[0;32m--> 551\u001b[0;31m                 \u001b[0msignaled\u001b[0m \u001b[0;34m=\u001b[0m \u001b[0mself\u001b[0m\u001b[0;34m.\u001b[0m\u001b[0m_cond\u001b[0m\u001b[0;34m.\u001b[0m\u001b[0mwait\u001b[0m\u001b[0;34m(\u001b[0m\u001b[0mtimeout\u001b[0m\u001b[0;34m)\u001b[0m\u001b[0;34m\u001b[0m\u001b[0m\n\u001b[0m\u001b[1;32m    552\u001b[0m             \u001b[0;32mreturn\u001b[0m \u001b[0msignaled\u001b[0m\u001b[0;34m\u001b[0m\u001b[0m\n\u001b[1;32m    553\u001b[0m \u001b[0;34m\u001b[0m\u001b[0m\n",
      "\u001b[0;32m~/anaconda3/lib/python3.6/threading.py\u001b[0m in \u001b[0;36mwait\u001b[0;34m(self, timeout)\u001b[0m\n\u001b[1;32m    293\u001b[0m         \u001b[0;32mtry\u001b[0m\u001b[0;34m:\u001b[0m    \u001b[0;31m# restore state no matter what (e.g., KeyboardInterrupt)\u001b[0m\u001b[0;34m\u001b[0m\u001b[0m\n\u001b[1;32m    294\u001b[0m             \u001b[0;32mif\u001b[0m \u001b[0mtimeout\u001b[0m \u001b[0;32mis\u001b[0m \u001b[0;32mNone\u001b[0m\u001b[0;34m:\u001b[0m\u001b[0;34m\u001b[0m\u001b[0m\n\u001b[0;32m--> 295\u001b[0;31m                 \u001b[0mwaiter\u001b[0m\u001b[0;34m.\u001b[0m\u001b[0macquire\u001b[0m\u001b[0;34m(\u001b[0m\u001b[0;34m)\u001b[0m\u001b[0;34m\u001b[0m\u001b[0m\n\u001b[0m\u001b[1;32m    296\u001b[0m                 \u001b[0mgotit\u001b[0m \u001b[0;34m=\u001b[0m \u001b[0;32mTrue\u001b[0m\u001b[0;34m\u001b[0m\u001b[0m\n\u001b[1;32m    297\u001b[0m             \u001b[0;32melse\u001b[0m\u001b[0;34m:\u001b[0m\u001b[0;34m\u001b[0m\u001b[0m\n",
      "\u001b[0;31mKeyboardInterrupt\u001b[0m: "
     ]
    }
   ],
   "source": [
    "model = CatBoostClassifier(\n",
    "    random_state=42,\n",
    "    cat_features=cat_cols,\n",
    "    verbose=False,\n",
    "    n_estimators=750,\n",
    "    learning_rate=baseline_lr*(4/3)\n",
    ")\n",
    "\n",
    "grid_classifier(model, test_x, test_y, verbose=False)"
   ]
  },
  {
   "cell_type": "markdown",
   "metadata": {},
   "source": [
    "#### Loss Function\n",
    "Stickng with the default of 'Logloss'"
   ]
  },
  {
   "cell_type": "code",
   "execution_count": 10,
   "metadata": {},
   "outputs": [
    {
     "name": "stdout",
     "output_type": "stream",
     "text": [
      "Seconds to fit: 313.96\n",
      "AUC: 0.8456\n"
     ]
    },
    {
     "data": {
      "text/plain": [
       "GridSearchCV(cv=5, error_score='raise',\n",
       "       estimator=<catboost.core.CatBoostClassifier object at 0x10ce060f0>,\n",
       "       fit_params=None, iid=True, n_jobs=-1, param_grid={},\n",
       "       pre_dispatch='2*n_jobs', refit=True, return_train_score=True,\n",
       "       scoring='roc_auc', verbose=0)"
      ]
     },
     "execution_count": 10,
     "metadata": {},
     "output_type": "execute_result"
    }
   ],
   "source": [
    "model = CatBoostClassifier(\n",
    "    random_state=42,\n",
    "    cat_features=cat_cols,\n",
    "    verbose=False,\n",
    ")\n",
    "\n",
    "grid_classifier(model, train_x, train_y, verbose=False)"
   ]
  },
  {
   "cell_type": "code",
   "execution_count": 9,
   "metadata": {},
   "outputs": [
    {
     "name": "stdout",
     "output_type": "stream",
     "text": [
      "Seconds to fit: 348.57\n",
      "AUC: 0.8456\n"
     ]
    },
    {
     "data": {
      "text/plain": [
       "GridSearchCV(cv=5, error_score='raise',\n",
       "       estimator=<catboost.core.CatBoostClassifier object at 0x10ce06c88>,\n",
       "       fit_params=None, iid=True, n_jobs=-1, param_grid={},\n",
       "       pre_dispatch='2*n_jobs', refit=True, return_train_score=True,\n",
       "       scoring='roc_auc', verbose=0)"
      ]
     },
     "execution_count": 9,
     "metadata": {},
     "output_type": "execute_result"
    }
   ],
   "source": [
    "model = CatBoostClassifier(\n",
    "    random_state=42,\n",
    "    cat_features=cat_cols,\n",
    "    verbose=False,\n",
    "    loss_function='CrossEntropy'\n",
    ")\n",
    "\n",
    "grid_classifier(model, train_x, train_y, verbose=False)"
   ]
  },
  {
   "cell_type": "code",
   "execution_count": 8,
   "metadata": {},
   "outputs": [
    {
     "name": "stdout",
     "output_type": "stream",
     "text": [
      "Seconds to fit: 208.95\n",
      "AUC: 0.8455\n"
     ]
    },
    {
     "data": {
      "text/plain": [
       "GridSearchCV(cv=5, error_score='raise',\n",
       "       estimator=<catboost.core.CatBoostClassifier object at 0x10ce06be0>,\n",
       "       fit_params=None, iid=True, n_jobs=-1, param_grid={},\n",
       "       pre_dispatch='2*n_jobs', refit=True, return_train_score=True,\n",
       "       scoring='roc_auc', verbose=0)"
      ]
     },
     "execution_count": 8,
     "metadata": {},
     "output_type": "execute_result"
    }
   ],
   "source": [
    "model = CatBoostClassifier(\n",
    "    random_state=42,\n",
    "    cat_features=cat_cols,\n",
    "    verbose=False,\n",
    "    loss_function='MultiClass'\n",
    ")\n",
    "\n",
    "grid_classifier(model, train_x, train_y, verbose=False)"
   ]
  },
  {
   "cell_type": "markdown",
   "metadata": {},
   "source": [
    "#### N Estimators & Learning Rate\n",
    "It keeps going up, I'm cutting it here with a value of 350"
   ]
  },
  {
   "cell_type": "code",
   "execution_count": 24,
   "metadata": {},
   "outputs": [
    {
     "name": "stdout",
     "output_type": "stream",
     "text": [
      "Seconds to fit: 320.85\n",
      "AUC: 0.8472\n"
     ]
    },
    {
     "data": {
      "text/plain": [
       "GridSearchCV(cv=5, error_score='raise',\n",
       "       estimator=<catboost.core.CatBoostClassifier object at 0x1a1bd8f5f8>,\n",
       "       fit_params=None, iid=True, n_jobs=-1, param_grid={},\n",
       "       pre_dispatch='2*n_jobs', refit=True, return_train_score=True,\n",
       "       scoring='roc_auc', verbose=0)"
      ]
     },
     "execution_count": 24,
     "metadata": {},
     "output_type": "execute_result"
    }
   ],
   "source": [
    "model = CatBoostClassifier(\n",
    "    random_state=42,\n",
    "    cat_features=cat_cols,\n",
    "    verbose=False,\n",
    "    n_estimators=1000,\n",
    "    learning_rate=baseline_lr\n",
    ")\n",
    "\n",
    "grid_classifier(model, train_x, train_y, verbose=False)"
   ]
  },
  {
   "cell_type": "code",
   "execution_count": 25,
   "metadata": {},
   "outputs": [
    {
     "name": "stdout",
     "output_type": "stream",
     "text": [
      "Seconds to fit: 225.10\n",
      "AUC: 0.8465\n"
     ]
    },
    {
     "data": {
      "text/plain": [
       "GridSearchCV(cv=5, error_score='raise',\n",
       "       estimator=<catboost.core.CatBoostClassifier object at 0x1a1bd59358>,\n",
       "       fit_params=None, iid=True, n_jobs=-1, param_grid={},\n",
       "       pre_dispatch='2*n_jobs', refit=True, return_train_score=True,\n",
       "       scoring='roc_auc', verbose=0)"
      ]
     },
     "execution_count": 25,
     "metadata": {},
     "output_type": "execute_result"
    }
   ],
   "source": [
    "model = CatBoostClassifier(\n",
    "    random_state=42,\n",
    "    cat_features=cat_cols,\n",
    "    verbose=False,\n",
    "    n_estimators=750,\n",
    "    learning_rate=baseline_lr*(4/3)\n",
    ")\n",
    "\n",
    "grid_classifier(model, train_x, train_y, verbose=False)"
   ]
  },
  {
   "cell_type": "code",
   "execution_count": 26,
   "metadata": {},
   "outputs": [
    {
     "name": "stdout",
     "output_type": "stream",
     "text": [
      "Seconds to fit: 166.82\n",
      "AUC: 0.8462\n"
     ]
    },
    {
     "data": {
      "text/plain": [
       "GridSearchCV(cv=5, error_score='raise',\n",
       "       estimator=<catboost.core.CatBoostClassifier object at 0x1a1bd72828>,\n",
       "       fit_params=None, iid=True, n_jobs=-1, param_grid={},\n",
       "       pre_dispatch='2*n_jobs', refit=True, return_train_score=True,\n",
       "       scoring='roc_auc', verbose=0)"
      ]
     },
     "execution_count": 26,
     "metadata": {},
     "output_type": "execute_result"
    }
   ],
   "source": [
    "model = CatBoostClassifier(\n",
    "    random_state=42,\n",
    "    cat_features=cat_cols,\n",
    "    verbose=False,\n",
    "    n_estimators=500,\n",
    "    learning_rate=baseline_lr*2\n",
    ")\n",
    "\n",
    "grid_classifier(model, train_x, train_y, verbose=False)"
   ]
  },
  {
   "cell_type": "code",
   "execution_count": 27,
   "metadata": {},
   "outputs": [
    {
     "name": "stdout",
     "output_type": "stream",
     "text": [
      "Seconds to fit: 102.60\n",
      "AUC: 0.8453\n"
     ]
    },
    {
     "data": {
      "text/plain": [
       "GridSearchCV(cv=5, error_score='raise',\n",
       "       estimator=<catboost.core.CatBoostClassifier object at 0x1a1bd590f0>,\n",
       "       fit_params=None, iid=True, n_jobs=-1, param_grid={},\n",
       "       pre_dispatch='2*n_jobs', refit=True, return_train_score=True,\n",
       "       scoring='roc_auc', verbose=0)"
      ]
     },
     "execution_count": 27,
     "metadata": {},
     "output_type": "execute_result"
    }
   ],
   "source": [
    "model = CatBoostClassifier(\n",
    "    random_state=42,\n",
    "    cat_features=cat_cols,\n",
    "    verbose=False,\n",
    "    n_estimators=333,\n",
    "    learning_rate=baseline_lr*3\n",
    ")\n",
    "\n",
    "grid_classifier(model, train_x, train_y, verbose=False)"
   ]
  },
  {
   "cell_type": "code",
   "execution_count": 53,
   "metadata": {
    "scrolled": true
   },
   "outputs": [
    {
     "name": "stdout",
     "output_type": "stream",
     "text": [
      "Seconds to fit: 914.24\n",
      "Grid Scores: \n",
      "\n",
      "{'mean_fit_time': array([ 5.81621718, 10.37933064, 15.27080383, 20.60542221, 25.82912545,\n",
      "       31.01070752, 39.5215416 , 42.29365401, 46.50317936, 51.94758453,\n",
      "       57.29432197, 62.86243434, 69.55804377, 79.44094453, 79.69708948,\n",
      "       74.51419506]),\n",
      " 'mean_score_time': array([0.02014079, 0.01460681, 0.01492963, 0.01511197, 0.01559091,\n",
      "       0.01545601, 0.0158144 , 0.01583257, 0.01620412, 0.01647601,\n",
      "       0.01675668, 0.01642203, 0.01670051, 0.01944461, 0.01684065,\n",
      "       0.0154274 ]),\n",
      " 'mean_test_score': array([0.84318254, 0.84535315, 0.84437456, 0.84431656, 0.84468181,\n",
      "       0.84606937, 0.84587927, 0.8454946 , 0.84566133, 0.84631657,\n",
      "       0.84578849, 0.84580509, 0.8456969 , 0.84703539, 0.84589246,\n",
      "       0.84604553]),\n",
      " 'mean_train_score': array([0.85721967, 0.86241833, 0.86515094, 0.86689185, 0.865568  ,\n",
      "       0.8649953 , 0.86614386, 0.86767184, 0.86701544, 0.86681356,\n",
      "       0.86722738, 0.86755547, 0.86683348, 0.8670556 , 0.86880189,\n",
      "       0.86734722]),\n",
      " 'param_n_estimators': masked_array(data=[25, 50, 75, 100, 125, 150, 175, 200, 225, 250, 275,\n",
      "                   300, 325, 350, 375, 400],\n",
      "             mask=[False, False, False, False, False, False, False, False,\n",
      "                   False, False, False, False, False, False, False, False],\n",
      "       fill_value='?',\n",
      "            dtype=object),\n",
      " 'params': [{'n_estimators': 25},\n",
      "            {'n_estimators': 50},\n",
      "            {'n_estimators': 75},\n",
      "            {'n_estimators': 100},\n",
      "            {'n_estimators': 125},\n",
      "            {'n_estimators': 150},\n",
      "            {'n_estimators': 175},\n",
      "            {'n_estimators': 200},\n",
      "            {'n_estimators': 225},\n",
      "            {'n_estimators': 250},\n",
      "            {'n_estimators': 275},\n",
      "            {'n_estimators': 300},\n",
      "            {'n_estimators': 325},\n",
      "            {'n_estimators': 350},\n",
      "            {'n_estimators': 375},\n",
      "            {'n_estimators': 400}],\n",
      " 'rank_test_score': array([16, 12, 14, 15, 13,  3,  6, 11, 10,  2,  8,  7,  9,  1,  5,  4],\n",
      "      dtype=int32),\n",
      " 'split0_test_score': array([0.86724552, 0.87052567, 0.87183397, 0.87147866, 0.87300579,\n",
      "       0.87178691, 0.87298932, 0.87206457, 0.87094216, 0.87268813,\n",
      "       0.87101746, 0.87071627, 0.87161513, 0.87337286, 0.87229281,\n",
      "       0.87377994]),\n",
      " 'split0_train_score': array([0.85374784, 0.85645229, 0.8534682 , 0.85778425, 0.8560582 ,\n",
      "       0.8584948 , 0.85793406, 0.86112851, 0.86042932, 0.85816008,\n",
      "       0.85887739, 0.85944416, 0.85959599, 0.85934337, 0.8622284 ,\n",
      "       0.85878724]),\n",
      " 'split1_test_score': array([0.8346993 , 0.83988215, 0.83360515, 0.83395297, 0.83477992,\n",
      "       0.83947904, 0.83749804, 0.83609522, 0.83695672, 0.83703734,\n",
      "       0.84025993, 0.83713179, 0.83554929, 0.83877418, 0.83723084,\n",
      "       0.83683003]),\n",
      " 'split1_train_score': array([0.85692081, 0.86036291, 0.86834363, 0.8699961 , 0.86763633,\n",
      "       0.86424726, 0.86848454, 0.8668588 , 0.86643997, 0.86876563,\n",
      "       0.86623359, 0.86799923, 0.86877965, 0.86975273, 0.87070918,\n",
      "       0.86965619]),\n",
      " 'split2_test_score': array([0.84091248, 0.8377198 , 0.83777469, 0.84085539, 0.84072804,\n",
      "       0.840436  , 0.84058531, 0.84201477, 0.84265595, 0.84212017,\n",
      "       0.84035036, 0.84174908, 0.84098275, 0.84113426, 0.8423661 ,\n",
      "       0.84253079]),\n",
      " 'split2_train_score': array([0.8603858 , 0.8663479 , 0.86836715, 0.87001251, 0.87093017,\n",
      "       0.86819156, 0.86822846, 0.87042828, 0.87219608, 0.86972518,\n",
      "       0.87170371, 0.87104074, 0.86836217, 0.86846205, 0.86958268,\n",
      "       0.8684931 ]),\n",
      " 'split3_test_score': array([0.83103859, 0.83328854, 0.83484334, 0.83531604, 0.83436601,\n",
      "       0.83573544, 0.83415515, 0.83460236, 0.83499859, 0.83784635,\n",
      "       0.83448882, 0.83592313, 0.83647924, 0.8370956 , 0.83422698,\n",
      "       0.835798  ]),\n",
      " 'split3_train_score': array([0.8613391 , 0.86892575, 0.86699157, 0.86975697, 0.86702144,\n",
      "       0.86794863, 0.86599034, 0.87099948, 0.86845746, 0.86949924,\n",
      "       0.86941958, 0.86989912, 0.86786464, 0.86757414, 0.86986218,\n",
      "       0.86892142]),\n",
      " 'split4_test_score': array([0.84200204, 0.84533092, 0.84379987, 0.83996385, 0.84051185,\n",
      "       0.84289134, 0.84415079, 0.84267983, 0.84273752, 0.84187465,\n",
      "       0.84280722, 0.84348982, 0.84384314, 0.84478291, 0.84332878,\n",
      "       0.84127137]),\n",
      " 'split4_train_score': array([0.8537048 , 0.86000276, 0.86858414, 0.86690939, 0.86619384,\n",
      "       0.86609426, 0.8700819 , 0.86894413, 0.86755439, 0.86791767,\n",
      "       0.86990263, 0.86939412, 0.86956496, 0.87014572, 0.87162703,\n",
      "       0.87087815]),\n",
      " 'std_fit_time': array([ 0.34501338,  0.1275446 ,  0.06440337,  0.16375192,  0.10861456,\n",
      "        0.11496925,  1.44494327,  1.00154328,  0.20086076,  0.39562006,\n",
      "        0.24298969,  1.07307726,  1.30128855,  3.1210704 ,  1.66900849,\n",
      "       14.58737092]),\n",
      " 'std_score_time': array([0.00473197, 0.00016563, 0.00047538, 0.00049207, 0.00054428,\n",
      "       0.00045578, 0.0007105 , 0.00019089, 0.00057834, 0.00051343,\n",
      "       0.00081635, 0.00041755, 0.00092131, 0.00583852, 0.00032666,\n",
      "       0.00307306]),\n",
      " 'std_test_score': array([0.01269115, 0.01317354, 0.01417868, 0.01383876, 0.01442352,\n",
      "       0.01306746, 0.01395752, 0.01366297, 0.0130117 , 0.01334954,\n",
      "       0.01291144, 0.01277191, 0.01330979, 0.01342376, 0.01361964,\n",
      "       0.0141047 ]),\n",
      " 'std_train_score': array([0.00320909, 0.00454844, 0.00586854, 0.00470176, 0.00501939,\n",
      "       0.00354858, 0.00430713, 0.00357117, 0.00381882, 0.0043727 ,\n",
      "       0.00453233, 0.00417159, 0.00366142, 0.00396355, 0.00336344,\n",
      "       0.00435576])}\n",
      "Best Model Parameters: {'n_estimators': 350}\n",
      "Best Model Score: 0.8470\n"
     ]
    },
    {
     "data": {
      "text/plain": [
       "GridSearchCV(cv=5, error_score='raise',\n",
       "       estimator=<catboost.core.CatBoostClassifier object at 0x1a26bfbd68>,\n",
       "       fit_params=None, iid=True, n_jobs=-1,\n",
       "       param_grid={'n_estimators': range(25, 401, 25)},\n",
       "       pre_dispatch='2*n_jobs', refit=True, return_train_score=True,\n",
       "       scoring='roc_auc', verbose=0)"
      ]
     },
     "execution_count": 53,
     "metadata": {},
     "output_type": "execute_result"
    },
    {
     "data": {
      "image/png": "[encoded data removed]",
      "text/plain": [
       "<Figure size 720x576 with 1 Axes>"
      ]
     },
     "metadata": {},
     "output_type": "display_data"
    }
   ],
   "source": [
    "model = CatBoostClassifier(\n",
    "    random_state=42,\n",
    "    cat_features=cat_cols,\n",
    "    verbose=False\n",
    ")\n",
    "\n",
    "parameters = {'n_estimators': range(25, 401, 25)}\n",
    "\n",
    "grid_classifier(model, train_x, train_y, parameters)"
   ]
  },
  {
   "cell_type": "markdown",
   "metadata": {},
   "source": [
    "#### Max Depth\n",
    "Could pick default of None or 6 which has same AUC, going with 6"
   ]
  },
  {
   "cell_type": "code",
   "execution_count": 15,
   "metadata": {
    "scrolled": true
   },
   "outputs": [
    {
     "name": "stdout",
     "output_type": "stream",
     "text": [
      "Seconds to fit: 118.51\n",
      "AUC: 0.847\n"
     ]
    },
    {
     "data": {
      "text/plain": [
       "GridSearchCV(cv=5, error_score='raise',\n",
       "       estimator=<catboost.core.CatBoostClassifier object at 0x1a209f6d30>,\n",
       "       fit_params=None, iid=True, n_jobs=-1, param_grid={},\n",
       "       pre_dispatch='2*n_jobs', refit=True, return_train_score=True,\n",
       "       scoring='roc_auc', verbose=0)"
      ]
     },
     "execution_count": 15,
     "metadata": {},
     "output_type": "execute_result"
    }
   ],
   "source": [
    "model = CatBoostClassifier(\n",
    "    random_state=42,\n",
    "    cat_features=cat_cols,\n",
    "    verbose=False,\n",
    "    n_estimators=350,\n",
    "    max_depth=None\n",
    ")\n",
    "\n",
    "grid_classifier(model, train_x, train_y, verbose=False)"
   ]
  },
  {
   "cell_type": "code",
   "execution_count": 55,
   "metadata": {
    "scrolled": true
   },
   "outputs": [
    {
     "name": "stdout",
     "output_type": "stream",
     "text": [
      "Seconds to fit: 960.09\n",
      "Grid Scores: \n",
      "\n",
      "{'mean_fit_time': array([ 59.46849861,  62.50300441,  66.35069251,  73.67418637,\n",
      "        77.92421122,  93.73927469, 128.78539391, 183.11256032]),\n",
      " 'mean_score_time': array([0.01749558, 0.01587014, 0.01597152, 0.0167417 , 0.01678014,\n",
      "       0.01724129, 0.01889386, 0.01672239]),\n",
      " 'mean_test_score': array([0.84633045, 0.84609694, 0.84612068, 0.84703539, 0.84563523,\n",
      "       0.8457848 , 0.84661834, 0.84522096]),\n",
      " 'mean_train_score': array([0.8571316 , 0.86097806, 0.86408665, 0.8670556 , 0.87084917,\n",
      "       0.87361388, 0.8752323 , 0.87723577]),\n",
      " 'param_max_depth': masked_array(data=[3, 4, 5, 6, 7, 8, 9, 10],\n",
      "             mask=[False, False, False, False, False, False, False, False],\n",
      "       fill_value='?',\n",
      "            dtype=object),\n",
      " 'params': [{'max_depth': 3},\n",
      "            {'max_depth': 4},\n",
      "            {'max_depth': 5},\n",
      "            {'max_depth': 6},\n",
      "            {'max_depth': 7},\n",
      "            {'max_depth': 8},\n",
      "            {'max_depth': 9},\n",
      "            {'max_depth': 10}],\n",
      " 'rank_test_score': array([3, 5, 4, 1, 7, 6, 2, 8], dtype=int32),\n",
      " 'split0_test_score': array([0.87238694, 0.87121982, 0.87166455, 0.87337286, 0.87145748,\n",
      "       0.87169984, 0.87527884, 0.87408819]),\n",
      " 'split0_train_score': array([0.85143921, 0.85443251, 0.85693697, 0.85934337, 0.86498835,\n",
      "       0.86758109, 0.86607747, 0.87162281]),\n",
      " 'split1_test_score': array([0.8368093 , 0.83995356, 0.83749804, 0.83877418, 0.83467627,\n",
      "       0.83969557, 0.83913582, 0.83724696]),\n",
      " 'split1_train_score': array([0.8579673 , 0.86165452, 0.86566634, 0.86975273, 0.86828148,\n",
      "       0.87358909, 0.87689405, 0.87808839]),\n",
      " 'split2_test_score': array([0.84289748, 0.84243417, 0.84134506, 0.84113426, 0.84149657,\n",
      "       0.84058092, 0.83999025, 0.8405897 ]),\n",
      " 'split2_train_score': array([0.85878481, 0.86372602, 0.86689753, 0.86846205, 0.87303553,\n",
      "       0.87793968, 0.87919563, 0.87897596]),\n",
      " 'split3_test_score': array([0.83566129, 0.83563348, 0.83679901, 0.8370956 , 0.83814758,\n",
      "       0.83440772, 0.83595325, 0.83504956]),\n",
      " 'split3_train_score': array([0.85907098, 0.86221289, 0.86502001, 0.86757414, 0.87240794,\n",
      "       0.87331839, 0.87286194, 0.87604065]),\n",
      " 'split4_test_score': array([0.84388159, 0.8412257 , 0.84328071, 0.84478291, 0.8423842 ,\n",
      "       0.8425212 , 0.84271348, 0.8391106 ]),\n",
      " 'split4_train_score': array([0.85839569, 0.86286437, 0.86591241, 0.87014572, 0.87553254,\n",
      "       0.87564114, 0.88113242, 0.88145106]),\n",
      " 'std_fit_time': array([ 0.5755126 ,  0.71886966,  0.89808388,  2.03977677,  3.28299661,\n",
      "        8.05465734, 10.8458299 , 16.98584312]),\n",
      " 'std_score_time': array([0.00105981, 0.000201  , 0.00039974, 0.00072574, 0.00042473,\n",
      "       0.0010077 , 0.00088961, 0.00342459]),\n",
      " 'std_test_score': array([0.01342828, 0.01277383, 0.01299979, 0.01342376, 0.01319898,\n",
      "       0.01323765, 0.01449668, 0.01455742]),\n",
      " 'std_train_score': array([0.00287033, 0.00334473, 0.00362544, 0.00396355, 0.00374396,\n",
      "       0.00344398, 0.00534248, 0.00330023])}\n",
      "Best Model Parameters: {'max_depth': 6}\n",
      "Best Model Score: 0.8470\n"
     ]
    },
    {
     "data": {
      "text/plain": [
       "GridSearchCV(cv=5, error_score='raise',\n",
       "       estimator=<catboost.core.CatBoostClassifier object at 0x1a25652dd8>,\n",
       "       fit_params=None, iid=True, n_jobs=-1,\n",
       "       param_grid={'max_depth': range(3, 11)}, pre_dispatch='2*n_jobs',\n",
       "       refit=True, return_train_score=True, scoring='roc_auc', verbose=0)"
      ]
     },
     "execution_count": 55,
     "metadata": {},
     "output_type": "execute_result"
    },
    {
     "data": {
      "image/png": "[encoded data removed]",
      "text/plain": [
       "<Figure size 720x576 with 1 Axes>"
      ]
     },
     "metadata": {},
     "output_type": "display_data"
    }
   ],
   "source": [
    "model = CatBoostClassifier(\n",
    "    random_state=42,\n",
    "    cat_features=cat_cols,\n",
    "    verbose=False,\n",
    "    n_estimators=350\n",
    ")\n",
    "\n",
    "parameters = {'max_depth': range(3, 11)}\n",
    "\n",
    "grid_classifier(model, train_x, train_y, parameters)"
   ]
  },
  {
   "cell_type": "markdown",
   "metadata": {},
   "source": [
    "#### L2 Leaf Reg\n",
    "Sticking with default of None"
   ]
  },
  {
   "cell_type": "code",
   "execution_count": 13,
   "metadata": {},
   "outputs": [
    {
     "name": "stdout",
     "output_type": "stream",
     "text": [
      "Seconds to fit: 112.46\n",
      "AUC: 0.847\n"
     ]
    },
    {
     "data": {
      "text/plain": [
       "GridSearchCV(cv=5, error_score='raise',\n",
       "       estimator=<catboost.core.CatBoostClassifier object at 0x10ce06978>,\n",
       "       fit_params=None, iid=True, n_jobs=-1, param_grid={},\n",
       "       pre_dispatch='2*n_jobs', refit=True, return_train_score=True,\n",
       "       scoring='roc_auc', verbose=0)"
      ]
     },
     "execution_count": 13,
     "metadata": {},
     "output_type": "execute_result"
    }
   ],
   "source": [
    "model = CatBoostClassifier(\n",
    "    random_state=42,\n",
    "    cat_features=cat_cols,\n",
    "    verbose=False,\n",
    "    n_estimators=350,\n",
    "    max_depth=6,\n",
    "    l2_leaf_reg=None\n",
    ")\n",
    "\n",
    "grid_classifier(model, train_x, train_y, verbose=False)"
   ]
  },
  {
   "cell_type": "code",
   "execution_count": 56,
   "metadata": {
    "scrolled": true
   },
   "outputs": [
    {
     "name": "stdout",
     "output_type": "stream",
     "text": [
      "Seconds to fit: 855.64\n",
      "Grid Scores: \n",
      "\n",
      "{'mean_fit_time': array([70.55816584, 67.65628633, 67.80178008, 67.00847979, 67.4133625 ,\n",
      "       67.36655269, 67.83452682, 67.64256849, 67.383359  , 53.39364891]),\n",
      " 'mean_score_time': array([0.01770802, 0.01634636, 0.01643786, 0.0162962 , 0.01629567,\n",
      "       0.01613913, 0.01599712, 0.01613216, 0.01591482, 0.01473842]),\n",
      " 'mean_test_score': array([0.84672439, 0.84624971, 0.84627113, 0.84659161, 0.84614564,\n",
      "       0.84629565, 0.84626835, 0.84647394, 0.84607833, 0.8466891 ]),\n",
      " 'mean_train_score': array([0.85714608, 0.857167  , 0.85711715, 0.85701348, 0.8567886 ,\n",
      "       0.85681637, 0.85691451, 0.85693236, 0.85724868, 0.85692935]),\n",
      " 'param_l2_leaf_reg': masked_array(data=[1, 2, 3, 4, 5, 6, 7, 8, 9, 10],\n",
      "             mask=[False, False, False, False, False, False, False, False,\n",
      "                   False, False],\n",
      "       fill_value='?',\n",
      "            dtype=object),\n",
      " 'params': [{'l2_leaf_reg': 1},\n",
      "            {'l2_leaf_reg': 2},\n",
      "            {'l2_leaf_reg': 3},\n",
      "            {'l2_leaf_reg': 4},\n",
      "            {'l2_leaf_reg': 5},\n",
      "            {'l2_leaf_reg': 6},\n",
      "            {'l2_leaf_reg': 7},\n",
      "            {'l2_leaf_reg': 8},\n",
      "            {'l2_leaf_reg': 9},\n",
      "            {'l2_leaf_reg': 10}],\n",
      " 'rank_test_score': array([ 1,  8,  6,  3,  9,  5,  7,  4, 10,  2], dtype=int32),\n",
      " 'split0_test_score': array([0.87408349, 0.8732858 , 0.8725493 , 0.8739376 , 0.87238694,\n",
      "       0.87272578, 0.87371876, 0.87413996, 0.87296343, 0.87295637]),\n",
      " 'split0_train_score': array([0.8510096 , 0.85104138, 0.8507452 , 0.84965867, 0.85031013,\n",
      "       0.85068855, 0.85124353, 0.85091011, 0.85060415, 0.85063593]),\n",
      " 'split1_test_score': array([0.83667109, 0.83699127, 0.83632557, 0.83598004, 0.83645917,\n",
      "       0.83650293, 0.83604684, 0.83715252, 0.83671486, 0.83738747]),\n",
      " 'split1_train_score': array([0.85815807, 0.85768808, 0.85705868, 0.85778679, 0.8579475 ,\n",
      "       0.85779821, 0.85797135, 0.85757463, 0.85844567, 0.85761062]),\n",
      " 'split2_test_score': array([0.84444113, 0.84243417, 0.84385265, 0.8438812 , 0.84230462,\n",
      "       0.84307315, 0.84296775, 0.84179959, 0.84290846, 0.8439866 ]),\n",
      " 'split2_train_score': array([0.85841751, 0.85899819, 0.85856279, 0.85858022, 0.85887883,\n",
      "       0.85853233, 0.85742253, 0.85742546, 0.85912618, 0.85806852]),\n",
      " 'split3_test_score': array([0.83388172, 0.83439613, 0.833986  , 0.83432198, 0.83541104,\n",
      "       0.83527664, 0.83466724, 0.83511908, 0.83411344, 0.83538323]),\n",
      " 'split3_train_score': array([0.85961604, 0.8591694 , 0.86037395, 0.85967737, 0.85852275,\n",
      "       0.85910619, 0.85909263, 0.85938038, 0.85968646, 0.85967001]),\n",
      " 'split4_test_score': array([0.84452814, 0.84412435, 0.84462668, 0.84482137, 0.84415079,\n",
      "       0.843884  , 0.84392486, 0.84414117, 0.84367489, 0.84371575]),\n",
      " 'split4_train_score': array([0.85852918, 0.85893796, 0.8588451 , 0.85936434, 0.8582838 ,\n",
      "       0.85795657, 0.85884253, 0.85937121, 0.85838095, 0.85866167]),\n",
      " 'std_fit_time': array([ 1.37971671,  0.21920778,  0.25656299,  0.40010298,  0.22142586,\n",
      "        0.35170647,  0.54984584,  0.51147803,  0.17435935, 16.85936535]),\n",
      " 'std_score_time': array([0.00066835, 0.0003166 , 0.00025221, 0.00053398, 0.00054596,\n",
      "       0.00048803, 0.0001781 , 0.00027743, 0.00032529, 0.00277851]),\n",
      " 'std_test_score': array([0.01431765, 0.01397609, 0.01377913, 0.01429587, 0.01354099,\n",
      "       0.01365626, 0.01420849, 0.01420526, 0.01392743, 0.01357088]),\n",
      " 'std_train_score': array([0.0031084 , 0.00310786, 0.00335522, 0.00373547, 0.00325348,\n",
      "       0.00309845, 0.00289815, 0.00312615, 0.00335656, 0.00322122])}\n",
      "Best Model Parameters: {'l2_leaf_reg': 1}\n",
      "Best Model Score: 0.8467\n"
     ]
    },
    {
     "data": {
      "text/plain": [
       "GridSearchCV(cv=5, error_score='raise',\n",
       "       estimator=<catboost.core.CatBoostClassifier object at 0x1a24cf1ba8>,\n",
       "       fit_params=None, iid=True, n_jobs=-1,\n",
       "       param_grid={'l2_leaf_reg': range(1, 11)}, pre_dispatch='2*n_jobs',\n",
       "       refit=True, return_train_score=True, scoring='roc_auc', verbose=0)"
      ]
     },
     "execution_count": 56,
     "metadata": {},
     "output_type": "execute_result"
    },
    {
     "data": {
      "image/png": "[encoded data removed]",
      "text/plain": [
       "<Figure size 720x576 with 1 Axes>"
      ]
     },
     "metadata": {},
     "output_type": "display_data"
    }
   ],
   "source": [
    "model = CatBoostClassifier(\n",
    "    random_state=42,\n",
    "    cat_features=cat_cols,\n",
    "    verbose=False,\n",
    "    n_estimators=350,\n",
    "    max_depth=6\n",
    ")\n",
    "\n",
    "parameters = {'l2_leaf_reg': range(1, 11)}\n",
    "\n",
    "grid_classifier(model, train_x, train_y, parameters)"
   ]
  },
  {
   "cell_type": "markdown",
   "metadata": {},
   "source": [
    "#### Border Count\n",
    "Border count for numericals\n",
    "\n",
    "Sticking with none here"
   ]
  },
  {
   "cell_type": "code",
   "execution_count": 19,
   "metadata": {},
   "outputs": [
    {
     "name": "stdout",
     "output_type": "stream",
     "text": [
      "Seconds to fit: 107.80\n",
      "AUC: 0.847\n"
     ]
    },
    {
     "data": {
      "text/plain": [
       "GridSearchCV(cv=5, error_score='raise',\n",
       "       estimator=<catboost.core.CatBoostClassifier object at 0x1a209bfbe0>,\n",
       "       fit_params=None, iid=True, n_jobs=-1, param_grid={},\n",
       "       pre_dispatch='2*n_jobs', refit=True, return_train_score=True,\n",
       "       scoring='roc_auc', verbose=0)"
      ]
     },
     "execution_count": 19,
     "metadata": {},
     "output_type": "execute_result"
    }
   ],
   "source": [
    "model = CatBoostClassifier(\n",
    "    random_state=42,\n",
    "    cat_features=cat_cols,\n",
    "    verbose=False,\n",
    "    n_estimators=350,\n",
    "    max_depth=6,\n",
    "    border_count=None,\n",
    ")\n",
    "\n",
    "grid_classifier(model, train_x, train_y, verbose=False)"
   ]
  },
  {
   "cell_type": "code",
   "execution_count": 23,
   "metadata": {
    "scrolled": true
   },
   "outputs": [
    {
     "name": "stdout",
     "output_type": "stream",
     "text": [
      "Seconds to fit: 700.38\n",
      "Grid Scores: \n",
      "\n",
      "{'mean_fit_time': array([86.67185926, 75.07619591, 77.12745538, 81.80800586, 76.86940141,\n",
      "       78.11000695, 64.29578691]),\n",
      " 'mean_score_time': array([0.02218332, 0.01840138, 0.01838717, 0.01862836, 0.0179738 ,\n",
      "       0.01709414, 0.01712704]),\n",
      " 'mean_test_score': array([0.84382642, 0.845286  , 0.84544172, 0.84595249, 0.84667769,\n",
      "       0.84699328, 0.8447989 ]),\n",
      " 'mean_train_score': array([0.85901335, 0.86211075, 0.86350578, 0.86619103, 0.86672188,\n",
      "       0.8675908 , 0.86791388]),\n",
      " 'param_border_count': masked_array(data=[8, 16, 32, 64, 128, 200, 250],\n",
      "             mask=[False, False, False, False, False, False, False],\n",
      "       fill_value='?',\n",
      "            dtype=object),\n",
      " 'params': [{'border_count': 8},\n",
      "            {'border_count': 16},\n",
      "            {'border_count': 32},\n",
      "            {'border_count': 64},\n",
      "            {'border_count': 128},\n",
      "            {'border_count': 200},\n",
      "            {'border_count': 250}],\n",
      " 'rank_test_score': array([7, 5, 4, 3, 2, 1, 6], dtype=int32),\n",
      " 'split0_test_score': array([0.87026213, 0.870008  , 0.86949504, 0.87117747, 0.87246694,\n",
      "       0.87259636, 0.86866911]),\n",
      " 'split0_train_score': array([0.85390887, 0.85772674, 0.85866747, 0.8588666 , 0.86061407,\n",
      "       0.8611252 , 0.86043061]),\n",
      " 'split1_test_score': array([0.83535119, 0.83800481, 0.83719859, 0.83822134, 0.83797486,\n",
      "       0.83933162, 0.83805549]),\n",
      " 'split1_train_score': array([0.86178314, 0.86487912, 0.86600163, 0.86834579, 0.86614586,\n",
      "       0.86569192, 0.86800009]),\n",
      " 'split2_test_score': array([0.83837634, 0.84064021, 0.83979922, 0.84244954, 0.84218824,\n",
      "       0.84202795, 0.84194012]),\n",
      " 'split2_train_score': array([0.85995582, 0.86214246, 0.86612764, 0.86719189, 0.86986606,\n",
      "       0.86996331, 0.86812053]),\n",
      " 'split3_test_score': array([0.83333488, 0.83286218, 0.83599959, 0.83285986, 0.83637034,\n",
      "       0.83633558, 0.8326073 ]),\n",
      " 'split3_train_score': array([0.86028968, 0.86289115, 0.86465115, 0.86855935, 0.8680749 ,\n",
      "       0.87181036, 0.87335591]),\n",
      " 'split4_test_score': array([0.84179053, 0.84489828, 0.84470119, 0.84503769, 0.84437191,\n",
      "       0.84465793, 0.84270627]),\n",
      " 'split4_train_score': array([0.85912926, 0.8629143 , 0.862081  , 0.8679915 , 0.8689085 ,\n",
      "       0.86936321, 0.86966225]),\n",
      " 'std_fit_time': array([5.64295215, 0.32819506, 1.64677718, 1.50516936, 1.37980557,\n",
      "       1.89442761, 9.41933463]),\n",
      " 'std_score_time': array([0.00148836, 0.00042257, 0.00121033, 0.00169761, 0.0009508 ,\n",
      "       0.00088557, 0.00441315]),\n",
      " 'std_test_score': array([0.0135276 , 0.01296602, 0.01239655, 0.01327343, 0.01321294,\n",
      "       0.01310164, 0.01246384]),\n",
      " 'std_train_score': array([0.00269288, 0.00237231, 0.00282328, 0.00369168, 0.00329044,\n",
      "       0.00379433, 0.00421241])}\n",
      "Best Model Parameters: {'border_count': 200}\n",
      "Best Model Score: 0.8470\n"
     ]
    },
    {
     "data": {
      "text/plain": [
       "GridSearchCV(cv=5, error_score='raise',\n",
       "       estimator=<catboost.core.CatBoostClassifier object at 0x1a20c304e0>,\n",
       "       fit_params=None, iid=True, n_jobs=-1,\n",
       "       param_grid={'border_count': [8, 16, 32, 64, 128, 200, 250]},\n",
       "       pre_dispatch='2*n_jobs', refit=True, return_train_score=True,\n",
       "       scoring='roc_auc', verbose=0)"
      ]
     },
     "execution_count": 23,
     "metadata": {},
     "output_type": "execute_result"
    },
    {
     "data": {
      "image/png": "[encoded data removed]",
      "text/plain": [
       "<Figure size 720x576 with 1 Axes>"
      ]
     },
     "metadata": {},
     "output_type": "display_data"
    }
   ],
   "source": [
    "model = CatBoostClassifier(\n",
    "    random_state=42,\n",
    "    cat_features=cat_cols,\n",
    "    verbose=False,\n",
    "    n_estimators=350,\n",
    "    max_depth=6,\n",
    ")\n",
    "\n",
    "parameters = {'border_count': [2**i for i in range(3, 8)] + [200, 250]}\n",
    "\n",
    "grid_classifier(model, train_x, train_y, parameters)"
   ]
  },
  {
   "cell_type": "markdown",
   "metadata": {},
   "source": [
    "#### Learning Rate\n",
    "Default is None which means it determines what it should be. Allowing it to stick with 0.068377"
   ]
  },
  {
   "cell_type": "code",
   "execution_count": 40,
   "metadata": {},
   "outputs": [
    {
     "name": "stdout",
     "output_type": "stream",
     "text": [
      "Seconds to fit: 123.04\n",
      "AUC: 0.847\n"
     ]
    },
    {
     "data": {
      "text/plain": [
       "<catboost.core.CatBoostClassifier at 0x1a20a0a668>"
      ]
     },
     "execution_count": 40,
     "metadata": {},
     "output_type": "execute_result"
    }
   ],
   "source": [
    "model = CatBoostClassifier(\n",
    "    random_state=42,\n",
    "    cat_features=cat_cols,\n",
    "    verbose=False,\n",
    "    n_estimators=350,\n",
    "    max_depth=6,\n",
    "    border_count=None,\n",
    "    learning_rate=None\n",
    ")\n",
    "\n",
    "gsearch = grid_classifier(model, train_x, train_y, verbose=False)"
   ]
  },
  {
   "cell_type": "code",
   "execution_count": 45,
   "metadata": {
    "scrolled": true
   },
   "outputs": [
    {
     "data": {
      "text/plain": [
       "0.06837700307"
      ]
     },
     "execution_count": 45,
     "metadata": {},
     "output_type": "execute_result"
    }
   ],
   "source": [
    "gsearch.best_estimator_.learning_rate_"
   ]
  },
  {
   "cell_type": "code",
   "execution_count": 46,
   "metadata": {},
   "outputs": [
    {
     "name": "stdout",
     "output_type": "stream",
     "text": [
      "Seconds to fit: 58.40\n",
      "AUC: 0.8453\n"
     ]
    },
    {
     "data": {
      "text/plain": [
       "GridSearchCV(cv=5, error_score='raise',\n",
       "       estimator=<catboost.core.CatBoostClassifier object at 0x1a20d28a20>,\n",
       "       fit_params=None, iid=True, n_jobs=-1, param_grid={},\n",
       "       pre_dispatch='2*n_jobs', refit=True, return_train_score=True,\n",
       "       scoring='roc_auc', verbose=0)"
      ]
     },
     "execution_count": 46,
     "metadata": {},
     "output_type": "execute_result"
    }
   ],
   "source": [
    "learning_rate = 0.068377\n",
    "model = CatBoostClassifier(\n",
    "    random_state=42,\n",
    "    cat_features=cat_cols,\n",
    "    verbose=False,\n",
    "    n_estimators=175,\n",
    "    max_depth=6,\n",
    "    border_count=None,\n",
    "    learning_rate=learning_rate*2\n",
    ")\n",
    "\n",
    "grid_classifier(model, train_x, train_y, verbose=False)"
   ]
  },
  {
   "cell_type": "code",
   "execution_count": 47,
   "metadata": {},
   "outputs": [
    {
     "name": "stdout",
     "output_type": "stream",
     "text": [
      "Seconds to fit: 237.68\n",
      "AUC: 0.8463\n"
     ]
    },
    {
     "data": {
      "text/plain": [
       "GridSearchCV(cv=5, error_score='raise',\n",
       "       estimator=<catboost.core.CatBoostClassifier object at 0x1a20d28e48>,\n",
       "       fit_params=None, iid=True, n_jobs=-1, param_grid={},\n",
       "       pre_dispatch='2*n_jobs', refit=True, return_train_score=True,\n",
       "       scoring='roc_auc', verbose=0)"
      ]
     },
     "execution_count": 47,
     "metadata": {},
     "output_type": "execute_result"
    }
   ],
   "source": [
    "model = CatBoostClassifier(\n",
    "    random_state=42,\n",
    "    cat_features=cat_cols,\n",
    "    verbose=False,\n",
    "    n_estimators=700,\n",
    "    max_depth=6,\n",
    "    border_count=None,\n",
    "    learning_rate=learning_rate/2\n",
    ")\n",
    "\n",
    "grid_classifier(model, train_x, train_y, verbose=False)"
   ]
  },
  {
   "cell_type": "code",
   "execution_count": 48,
   "metadata": {},
   "outputs": [
    {
     "name": "stdout",
     "output_type": "stream",
     "text": [
      "Seconds to fit: 436.26\n",
      "AUC: 0.8458\n"
     ]
    },
    {
     "data": {
      "text/plain": [
       "GridSearchCV(cv=5, error_score='raise',\n",
       "       estimator=<catboost.core.CatBoostClassifier object at 0x1a209f6978>,\n",
       "       fit_params=None, iid=True, n_jobs=-1, param_grid={},\n",
       "       pre_dispatch='2*n_jobs', refit=True, return_train_score=True,\n",
       "       scoring='roc_auc', verbose=0)"
      ]
     },
     "execution_count": 48,
     "metadata": {},
     "output_type": "execute_result"
    }
   ],
   "source": [
    "model = CatBoostClassifier(\n",
    "    random_state=42,\n",
    "    cat_features=cat_cols,\n",
    "    verbose=False,\n",
    "    n_estimators=1400,\n",
    "    max_depth=6,\n",
    "    border_count=None,\n",
    "    learning_rate=learning_rate/4\n",
    ")\n",
    "\n",
    "grid_classifier(model, train_x, train_y, verbose=False)"
   ]
  },
  {
   "cell_type": "markdown",
   "metadata": {},
   "source": [
    "#### Final CatBoost Model"
   ]
  },
  {
   "cell_type": "code",
   "execution_count": 49,
   "metadata": {},
   "outputs": [
    {
     "name": "stdout",
     "output_type": "stream",
     "text": [
      "Seconds to fit: 92.92\n",
      "AUC: 0.8572\n"
     ]
    }
   ],
   "source": [
    "model = CatBoostClassifier(\n",
    "    random_state=42,\n",
    "    cat_features=cat_cols,\n",
    "    verbose=False,\n",
    "    n_estimators=350,\n",
    "    max_depth=6,\n",
    ")\n",
    "\n",
    "gsearch = grid_classifier(model, test_x, test_y, verbose=False)"
   ]
  },
  {
   "cell_type": "markdown",
   "metadata": {},
   "source": [
    "Hahahahahahaha no increase in AUC. At the very least it trains faster than the base of 1000 trees."
   ]
  },
  {
   "cell_type": "code",
   "execution_count": null,
   "metadata": {},
   "outputs": [],
   "source": []
  }
 ],
 "metadata": {
  "kernelspec": {
   "display_name": "Python 3",
   "language": "python",
   "name": "python3"
  },
  "language_info": {
   "codemirror_mode": {
    "name": "ipython",
    "version": 3
   },
   "file_extension": ".py",
   "mimetype": "text/x-python",
   "name": "python",
   "nbconvert_exporter": "python",
   "pygments_lexer": "ipython3",
   "version": "3.6.6"
  }
 },
 "nbformat": 4,
 "nbformat_minor": 2
}
